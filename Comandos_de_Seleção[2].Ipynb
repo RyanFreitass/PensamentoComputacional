{
  "nbformat": 4,
  "nbformat_minor": 0,
  "metadata": {
    "colab": {
      "provenance": [],
      "authorship_tag": "ABX9TyMHFIbhVQhXzcFNNNvxs4Zf"
    },
    "kernelspec": {
      "name": "python3",
      "display_name": "Python 3"
    },
    "language_info": {
      "name": "python"
    }
  },
  "cells": [
    {
      "cell_type": "markdown",
      "source": [
        "\n",
        "\n",
        "1.   Faça um algoritmo em Python para ler dois valores numéricos e apresentar a diferença do maior\n",
        "pelo menor.\n",
        "\n"
      ],
      "metadata": {
        "id": "SJSbCt4ksncG"
      }
    },
    {
      "cell_type": "code",
      "execution_count": null,
      "metadata": {
        "colab": {
          "base_uri": "https://localhost:8080/"
        },
        "id": "rdzZAoP6sObS",
        "outputId": "a03f2641-4429-4495-de41-53943c22710c"
      },
      "outputs": [
        {
          "output_type": "stream",
          "name": "stdout",
          "text": [
            "Digite o primeiro número:5\n",
            "Digite o segundo número:10\n",
            "Essa é a diferença: 5.0\n"
          ]
        }
      ],
      "source": [
        "#algoritmo um\n",
        "\n",
        "n1 = 0.0\n",
        "n2 = 0.0\n",
        "resultado = 0.0\n",
        "\n",
        "n1 = float(input(\"Digite o primeiro número:\"))\n",
        "n2 = float(input(\"Digite o segundo número:\"))\n",
        "\n",
        "if n1 > n2:\n",
        "   resultado = n1 - n2\n",
        "   print(\"Essa é a diferença:\", resultado)\n",
        "else:\n",
        "  resultado = n2 - n1\n",
        "  print(\"Essa é a diferença:\", resultado)"
      ]
    },
    {
      "cell_type": "markdown",
      "source": [
        "\n",
        "\n",
        "2. Faça um algoritmo em Python para ler dois números. Se os números forem iguais escrever a\n",
        "mensagem: \"NÚMEROS IGUAIS\" e encerrar a execução; caso contrário, escrever o de maior\n",
        "valor.\n",
        "\n"
      ],
      "metadata": {
        "id": "BXNbEjZIukv6"
      }
    },
    {
      "cell_type": "code",
      "source": [
        "#algoritmo dois\n",
        "\n",
        "n1 = 0.0\n",
        "n2 = 0.0\n",
        "\n",
        "n1 = float(input(\"Digite o primeiro número:\"))\n",
        "n2 = float(input(\"Digite o segundo número:\"))\n",
        "\n",
        "if n1 == n2:\n",
        "    print(\"NÚMEROS IGUAIS\")\n",
        "else:\n",
        "  if n1 > n2:\n",
        "      print(n1, \"é maior que\", n2)\n",
        "  else:\n",
        "      print(n2, \"é maior que\", n1)\n"
      ],
      "metadata": {
        "colab": {
          "base_uri": "https://localhost:8080/"
        },
        "id": "Gfe1EnVot8KK",
        "outputId": "b0e4063e-004c-431e-f4ab-5bcb67f57453"
      },
      "execution_count": null,
      "outputs": [
        {
          "output_type": "stream",
          "name": "stdout",
          "text": [
            "Digite o primeiro número:10\n",
            "Digite o segundo número:5\n",
            "10.0 é maior que 5.0\n"
          ]
        }
      ]
    },
    {
      "cell_type": "markdown",
      "source": [
        "\n",
        "\n",
        "3. Faça um algoritmo em Python para ler dois valores: NUM1 e NUM2, e se NUM1 for maior que NUM2 executa a soma de NUM1 e NUM2; caso contrário, executa uma subtração.\n",
        "\n"
      ],
      "metadata": {
        "id": "K-DTgVw5vYT0"
      }
    },
    {
      "cell_type": "code",
      "source": [
        "#algoritmo tres\n",
        "\n",
        "n1 = 0.0\n",
        "n2 = 0.0\n",
        "resultado = 0.0\n",
        "\n",
        "n1 = float(input(\"Digite o primeiro número:\"))\n",
        "n2 = float(input(\"Digite o segundo número:\"))\n",
        "\n",
        "if n1 > n2:\n",
        "    resultado = n1 + n2\n",
        "    print(\"A soma é:\", resultado)\n",
        "else:\n",
        "    resultado = n1 - n2\n",
        "    print(\"A soma é:\", resultado)"
      ],
      "metadata": {
        "colab": {
          "base_uri": "https://localhost:8080/"
        },
        "id": "PK4HCRlgvCYF",
        "outputId": "6b4874ff-45f4-4c97-e091-c72ef6e14c53"
      },
      "execution_count": null,
      "outputs": [
        {
          "output_type": "stream",
          "name": "stdout",
          "text": [
            "Digite o primeiro número:5\n",
            "Digite o segundo número:14\n",
            "A soma é: -9.0\n"
          ]
        }
      ]
    },
    {
      "cell_type": "markdown",
      "source": [
        "4. O hotel Pica-Pau cobra R$ 150,00 a diária e mais uma taxa de serviços. A taxa de serviços é de:\n"
      ],
      "metadata": {
        "id": "0cXcbtnWwFRF"
      }
    },
    {
      "cell_type": "markdown",
      "source": [
        "\n",
        "\n",
        "*   R$ 15 por dia, se número de diárias <15\n",
        "\n",
        "*   R$ 10 por dia, se número de diárias =15\n",
        "\n",
        "*   R$ 5 por dia, se número de diárias >15\n"
      ],
      "metadata": {
        "id": "VavanTeVwgbd"
      }
    },
    {
      "cell_type": "markdown",
      "source": [
        "Faça um algoritmo em Python que lê o número de diárias e calcula o total a ser pago pelo cliente."
      ],
      "metadata": {
        "id": "8tWmJO65wx3n"
      }
    },
    {
      "cell_type": "code",
      "source": [
        "#algoritmo quatro\n",
        "numdias = 0\n",
        "totalpago = 0.0\n",
        "\n",
        "numdias = int(input(\"Informe o numero de diarias:\"))\n",
        "\n",
        "if numdias < 15:\n",
        "  totalpago = numdias * 15\n",
        "  print(\"O total a ser pago é de:\", totalpago, \"reais\")\n",
        "else:\n",
        "    if numdias == 15:\n",
        "      totalpago = numdias * 10\n",
        "      print(\"O total a ser pago é de:\", totalpago, \"reais\")\n",
        "    else:\n",
        "        totalpago = numdias * 5\n",
        "        print(\"O total a ser pago é de:\", totalpago, \"reais\")\n",
        "\n",
        "\n",
        "\n"
      ],
      "metadata": {
        "colab": {
          "base_uri": "https://localhost:8080/"
        },
        "id": "MSq5E0Aqv3GE",
        "outputId": "7eaf4aac-d40d-49c2-e055-48310b0ee8b3"
      },
      "execution_count": null,
      "outputs": [
        {
          "output_type": "stream",
          "name": "stdout",
          "text": [
            "Informe o numero de diarias:17\n",
            "O total a ser pago é de: 85 reais\n"
          ]
        }
      ]
    },
    {
      "cell_type": "markdown",
      "source": [
        "5. Escrever um programa em Python que lê as 3 notas obtidas por ele em provas. Para cada aluno, calcular a média de aproveitamento, usando a fórmula:\n"
      ],
      "metadata": {
        "id": "spaKNzRtxrrA"
      }
    },
    {
      "cell_type": "markdown",
      "source": [
        "MA = (Nl + N2 + N3) / 3\n"
      ],
      "metadata": {
        "id": "dBMgMnWqxwOP"
      }
    },
    {
      "cell_type": "code",
      "source": [
        "#algoritmo cinco\n",
        "\n",
        "nota1 = 0.0\n",
        "nota2 = 0.0\n",
        "nota3 = 0.0\n",
        "media = 0.0\n",
        "\n",
        "nota1 = float(input(\"Informe a primeira nota:\"))\n",
        "nota2 = float(input(\"Informe a segunda nota:\"))\n",
        "nota3 = float(input(\"Informe a terceira nota:\"))\n",
        "\n",
        "media = (nota1 + nota2 + nota3) / 3\n",
        "\n",
        "if media >= 9:\n",
        "    print(\"As notas são:\", nota1, \",\", nota2, \"e\", nota3)\n",
        "    print(\"Essa é a media:\", media)\n",
        "    print(\"O conceito é: A\")\n",
        "    print(\"APROVADO!\")\n",
        "else:\n",
        "  if media >= 7.5 and media < 9:\n",
        "    print(\"As notas são:\", nota1, \",\", nota2, \"e\", nota3)\n",
        "    print(\"Essa é a media:\", media)\n",
        "    print(\"O conceito é: B\")\n",
        "    print(\"APROVADO!\")\n",
        "  else:\n",
        "    if media >= 6 and media < 7.5:\n",
        "      print(\"As notas são:\", nota1, \",\", nota2, \"e\", nota3)\n",
        "      print(\"Essa é a media:\", media)\n",
        "      print(\"O conceito é: C\")\n",
        "      print(\"APROVADO!\")\n",
        "    else:\n",
        "      if media >= 4 and media < 6:\n",
        "        print(\"As notas são:\", nota1, \",\", nota2, \"e\", nota3)\n",
        "        print(\"Essa é a media:\", media)\n",
        "        print(\"O conceito é: D\")\n",
        "        print(\"REPROVADO!\")\n",
        "      else:\n",
        "          print(\"As notas são:\", nota1, \",\", nota2, \"e\", nota3)\n",
        "          print(\"Essa é a media:\", media)\n",
        "          print(\"O conceito é: E\")\n",
        "          print(\"REPROVADO!\")"
      ],
      "metadata": {
        "colab": {
          "base_uri": "https://localhost:8080/"
        },
        "id": "Qlb04EamyGwZ",
        "outputId": "584e5d41-843e-4b3b-cc6e-d9953487fad2"
      },
      "execution_count": null,
      "outputs": [
        {
          "output_type": "stream",
          "name": "stdout",
          "text": [
            "Informe a primeira nota:10\n",
            "Informe a segunda nota:4\n",
            "Informe a terceira nota:5.5\n",
            "As notas são: 10.0 , 4.0 e 5.5\n",
            "Essa é a media: 6.5\n",
            "O conceito é: C\n",
            "APROVADO!\n"
          ]
        }
      ]
    },
    {
      "cell_type": "markdown",
      "source": [
        "6. Faça um programa em Python que leia a altura e o sexo de uma pessoa, calcule seu peso ideal, utilizando as seguintes fórmulas:\n",
        "\n",
        "*   homens : (72,7 * altura) –58\n",
        "\n",
        "*   mulheres : (62,1 * altura) – 44,7"
      ],
      "metadata": {
        "id": "nfe76VCm1Gve"
      }
    },
    {
      "cell_type": "code",
      "source": [
        "#algoritmo seis\n",
        "\n",
        "altura = 0.0\n",
        "nome = \"\"\n",
        "sexo = \"\"\n",
        "peso = 0.0\n",
        "\n",
        "nome = str(input(\"Informe o seu nome:\"))\n",
        "sexo = str(input(\"Informe o seu sexo(Homem ou Mulher):\"))\n",
        "altura = float(input(\"Informe a sua altura(cm):\"))\n",
        "\n",
        "if sexo == \"Homem\":\n",
        "  peso = (72.7 * altura) - 58\n",
        "  print(nome + \" esse é o seu peso ideal:\", round(peso, 2))\n",
        "else:\n",
        "  peso = (62.1 * altura) - 44.7\n",
        "  print(nome + \" esse é o seu peso ideal:\", round(peso, 2))"
      ],
      "metadata": {
        "colab": {
          "base_uri": "https://localhost:8080/"
        },
        "id": "t-YCqMWQ1WL_",
        "outputId": "ec69baff-addc-49c3-e69d-327f054978eb"
      },
      "execution_count": null,
      "outputs": [
        {
          "output_type": "stream",
          "name": "stdout",
          "text": [
            "Informe o seu nome:Ryan\n",
            "Informe o seu sexo(Homem ou Mulher):Homem\n",
            "Informe a sua altura(cm):1.88\n",
            "Ryan esse é o seu peso ideal: 78.68\n"
          ]
        }
      ]
    },
    {
      "cell_type": "markdown",
      "source": [
        "7. Escrever um programa em Python que lê os seguintes dados de um funcionário: o\n",
        "número de horas trabalhadas e o valor que recebe por hora. Calcular e escrever, o salário bruto (SB) e o valor de desconto do Imposto de Renda (IR) como segue:\n",
        "\n",
        "* Se SB > 3.500,00 então IR = 15% do SB\n",
        "\n",
        "* Se SB > 1.500,00 e SB <= 3.500,00 então IR = 8% do SB\n",
        "\n",
        "* Se SB <= 1.500,00 então IR = 0."
      ],
      "metadata": {
        "id": "gNpdQN-H27VV"
      }
    },
    {
      "cell_type": "code",
      "source": [
        "#algoritmo sete\n",
        "\n",
        "nome = \"\"\n",
        "num_horas = 0.0\n",
        "valor_hora = 0.0\n",
        "SB = 0.0\n",
        "\n",
        "nome = str(input(\"Informe o seu nome:\"))\n",
        "num_horas = float(input(\"Informe o numero de horas trabalhadas:\"))\n",
        "valor_hora = float(input(\"Informe o valor que recebe por hora:\"))\n",
        "\n",
        "SB = num_horas * valor_hora\n",
        "\n",
        "if SB > 3.500:\n",
        "  SB = SB - (SB * 0.15)\n",
        "  print(nome, \"Seu salario é de:\", SB, \"reais\")\n",
        "else:\n",
        "  if SB > 1.500 and SB <= 3.500:\n",
        "    SB = SB - (SB * 0.08)\n",
        "    print(nome, \"Seu salario é de:\", SB, \"reais\")\n",
        "  else:\n",
        "      if SB <= 1.500:\n",
        "        print(nome, \"Seu salario é de:\", SB, \"reais\")"
      ],
      "metadata": {
        "id": "XMbtqyLa1hsi"
      },
      "execution_count": null,
      "outputs": []
    },
    {
      "cell_type": "code",
      "source": [],
      "metadata": {
        "id": "3ahWK5C6gSen"
      },
      "execution_count": null,
      "outputs": []
    }
  ]
}
