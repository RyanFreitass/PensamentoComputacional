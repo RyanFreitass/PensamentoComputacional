{
  "nbformat": 4,
  "nbformat_minor": 0,
  "metadata": {
    "colab": {
      "provenance": [],
      "authorship_tag": "ABX9TyO+kdp3+djWeFhqgBeVC8MW"
    },
    "kernelspec": {
      "name": "python3",
      "display_name": "Python 3"
    },
    "language_info": {
      "name": "python"
    }
  },
  "cells": [
    {
      "cell_type": "markdown",
      "source": [
        "# CALCULADORA SIMPLES EM **PYTHON**\n",
        "\n",
        "+,-,*,/"
      ],
      "metadata": {
        "id": "DAxNHXk6mO6k"
      }
    },
    {
      "cell_type": "code",
      "source": [
        "import math\n",
        "\n",
        "def soma(a, b):\n",
        "  return a + b\n",
        "\n",
        "def sub(a, b):\n",
        "  return a - b\n",
        "\n",
        "def mult(a, b):\n",
        "  return a * b\n",
        "\n",
        "def div(a, b):\n",
        "  return a / b\n",
        "\n",
        "def exp(a, b):\n",
        "  return a ** b\n",
        "\n",
        "def raiz(a, b):\n",
        "  return math.pow(b, 1/a)\n",
        "\n",
        "def div(a, b):\n",
        "  return a // b\n",
        "\n",
        "def mod(a, b):\n",
        "  return a % b\n",
        "\n",
        "\n",
        "op_string =   \"Digite: + para soma,\"\n",
        "op_string += \"\\n        - para subtração,\"\n",
        "op_string += \"\\n        * para multiplicação,\"\n",
        "op_string += \"\\n        / para divisão,\"\n",
        "op_string += \"\\n        ** para a ^ b,\"\n",
        "op_string += \"\\n        // para a raiz b,\"\n",
        "op_string += \"\\n        DIV para a divisão inteira,\"\n",
        "op_string += \"\\n        MOD para o resto da divisão inteira ou\"\n",
        "op_string += \"\\n        s para sair: \"\n",
        "\n",
        "while True:\n",
        "  a = float(input(\"Digite o primeiro valor: \"))\n",
        "  b = float(input(\"Digite o segundo valor: \"))\n",
        "  print(\"--\"*10)\n",
        "  operacao = input(op_string)\n",
        "\n",
        "\n",
        "  print(\"--\"*10)\n",
        "  if operacao == \"+\":\n",
        "    print(f\"O resultado da soma de {a} e {b} é: {soma(a, b)}\")\n",
        "\n",
        "  elif operacao == \"-\":\n",
        "    print(f\"O resultado da subtração de {a} e {b} é: {sub(a, b)}\")\n",
        "\n",
        "  elif operacao == \"/\":\n",
        "    if b == 0:\n",
        "      print(\"DIVISÃO POR ZERO!\")\n",
        "    else:\n",
        "      print(f\"O resultado da divisão de {a} e {b} é: {div(a, b)}\")\n",
        "\n",
        "  elif operacao == \"*\":\n",
        "    print(f\"O resultado da multiplicação de {a} e {b} é: {mult(a, b)}\")\n",
        "\n",
        "  elif operacao == \"**\":\n",
        "    print(f\"O resultado da exponenciação de {a} ^ {b} é: {exp(a, b)}\")\n",
        "\n",
        "  elif operacao == \"//\":\n",
        "    print(f\"O resultado da raiz {a} de {b} é: {raiz(a, b)}\")\n",
        "\n",
        "  elif operacao == \"DIV\":\n",
        "    print(f\"O resultado da divisão inteira de {a} e {b} é: {div(a, b)}\")\n",
        "\n",
        "  elif operacao == \"MOD\":\n",
        "    print(f\"O resultado do resto da divisão inteira de {a} e {b} é: {mod(a, b)}\")\n",
        "\n",
        "  else:\n",
        "    print(\"OPERADOR INVÁLIDO\")\n",
        "\n",
        "  if (operacao == 's'):\n",
        "    break\n",
        "\n"
      ],
      "metadata": {
        "colab": {
          "base_uri": "https://localhost:8080/"
        },
        "id": "e4aQla9Pm1Zy",
        "outputId": "b743ad78-4c86-4150-e4f8-bd6a61c11ccf"
      },
      "execution_count": null,
      "outputs": [
        {
          "output_type": "stream",
          "name": "stdout",
          "text": [
            "Digite o primeiro valor: 2\n",
            "Digite o segundo valor: 9\n",
            "--------------------\n",
            "Digite: + para soma,\n",
            "        - para subtração,\n",
            "        * para multiplicação,\n",
            "        / para divisão,\n",
            "        ** para a ^ b,\n",
            "        // para a raiz b,\n",
            "        DIV para a divisão inteira,\n",
            "        MOD para o resto da divisão inteira ou\n",
            "        s para sair: //\n",
            "--------------------\n",
            "O resultado da raiz 2.0 de 9.0 é: 3.0\n"
          ]
        }
      ]
    }
  ]
}