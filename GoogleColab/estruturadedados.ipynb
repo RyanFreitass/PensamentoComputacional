{
  "nbformat": 4,
  "nbformat_minor": 0,
  "metadata": {
    "colab": {
      "provenance": [],
      "collapsed_sections": [
        "IxFqCrn5kZds",
        "VMon4qo01ARK",
        "OSLx1WQtGdHz",
        "9rP01GAUIKmv"
      ],
      "authorship_tag": "ABX9TyNSAgnbXcNpYpE+QCWCWkos",
      "include_colab_link": true
    },
    "kernelspec": {
      "name": "python3",
      "display_name": "Python 3"
    },
    "language_info": {
      "name": "python"
    }
  },
  "cells": [
    {
      "cell_type": "markdown",
      "metadata": {
        "id": "view-in-github",
        "colab_type": "text"
      },
      "source": [
        "<a href=\"https://colab.research.google.com/github/RyanFreitass/PensamentoComputacional/blob/main/estruturadedados.ipynb\" target=\"_parent\"><img src=\"https://colab.research.google.com/assets/colab-badge.svg\" alt=\"Open In Colab\"/></a>"
      ]
    },
    {
      "cell_type": "markdown",
      "source": [
        "#**ESTRUTURA DE DADOS**"
      ],
      "metadata": {
        "id": "RHiEVA_VkTIc"
      }
    },
    {
      "cell_type": "markdown",
      "source": [
        "##Listas"
      ],
      "metadata": {
        "id": "IxFqCrn5kZds"
      }
    },
    {
      "cell_type": "code",
      "execution_count": null,
      "metadata": {
        "colab": {
          "base_uri": "https://localhost:8080/"
        },
        "id": "486ZNGrxkE3I",
        "outputId": "fa712f16-4bb8-45e7-be7d-4f5064cae105"
      },
      "outputs": [
        {
          "output_type": "stream",
          "name": "stdout",
          "text": [
            "laranja\n",
            "['maça', 'banana', 'laranja', 'uva']\n",
            "maça\n",
            "banana\n",
            "laranja\n",
            "uva\n",
            "['uva', 'banana', 'laranja', 'maça']\n",
            "['uva', 'banana', 'maça']\n"
          ]
        }
      ],
      "source": [
        "frutas = [\"maça\", \"banana\", \"laranja\"]\n",
        "\n",
        "print(frutas[-1])  #maça\n",
        "\n",
        "frutas.append(\"uva\") #adicionando elementos\n",
        "print(frutas)\n",
        "\n",
        "for fruta in frutas: # iterando sobre a lista\n",
        "  print(fruta)\n",
        "\n",
        "aux = frutas[0]\n",
        "frutas[0] = frutas[-1]\n",
        "frutas[-1] = aux\n",
        "\n",
        "print(frutas)\n",
        "\n",
        "\n",
        "frutas.remove(frutas[-2])\n",
        "print(frutas)"
      ]
    },
    {
      "cell_type": "code",
      "source": [
        "mapa_jv = [['x', 'o', 'o'],\n",
        "           ['o', 'x', ' '],\n",
        "           ['x', 'o', 'x']]\n",
        "\n",
        "print(\"O tamanho da lista é\", len(mapa_jv))\n",
        "\n",
        "for i in range(len(mapa_jv)):\n",
        "  linha = \"\"\n",
        "  for y in range(len(mapa_jv[i])):\n",
        "    linha += mapa_jv[i] [y] + \" \"\n",
        "  print(linha)\n",
        "\n",
        "aux = mapa_jv[1][1]\n",
        "mapa_jv[1][1] = mapa_jv[0][2]\n",
        "mapa_jv[0][2] = aux\n",
        "\n",
        "print(\"--\"*10)\n",
        "\n",
        "for i in range(len(mapa_jv)):\n",
        "  linha = \"\"\n",
        "  for y in range(len(mapa_jv[i])):\n",
        "    linha += mapa_jv[i] [y] + \" \"\n",
        "  print(linha)"
      ],
      "metadata": {
        "colab": {
          "base_uri": "https://localhost:8080/"
        },
        "id": "Nx-G63UFktXG",
        "outputId": "f1f5673f-7378-4508-cdfd-5b7b0ebf0e5d"
      },
      "execution_count": null,
      "outputs": [
        {
          "output_type": "stream",
          "name": "stdout",
          "text": [
            "O tamanho da lista é 3\n",
            "x o o \n",
            "o x   \n",
            "x o x \n",
            "--------------------\n",
            "x o x \n",
            "o o   \n",
            "x o x \n"
          ]
        }
      ]
    },
    {
      "cell_type": "markdown",
      "source": [
        "##Tuplas: coleções ordenadas e imutáveis de elementos"
      ],
      "metadata": {
        "id": "VMon4qo01ARK"
      }
    },
    {
      "cell_type": "code",
      "source": [
        "# Criando uma tupla\n",
        "cores = (\"vermelho\", \"verde\", \"azul\")\n",
        "\n",
        "# Acessando elementos\n",
        "print(cores[1]) # verde\n",
        "\n",
        "# Tuplas são imutáveis, não podemos adicionar ou remover elementos"
      ],
      "metadata": {
        "colab": {
          "base_uri": "https://localhost:8080/"
        },
        "id": "bfoYNMRv1I2S",
        "outputId": "5bdf555f-4efb-4f8c-9608-5747f5be237c"
      },
      "execution_count": null,
      "outputs": [
        {
          "output_type": "stream",
          "name": "stdout",
          "text": [
            "verde\n"
          ]
        }
      ]
    },
    {
      "cell_type": "markdown",
      "source": [
        "##Conjuntos: ñ ordenadas e sem elementos duplicados"
      ],
      "metadata": {
        "id": "XdtdKhnL1JXC"
      }
    },
    {
      "cell_type": "code",
      "source": [
        "# Criando um conjunto\n",
        "numeros = {1, 2, 3, 4, 5}\n",
        "# Adicionando elementos\n",
        "numeros.add(6)\n",
        "# Removendo elementos\n",
        "numeros.remove(3)\n",
        "\n",
        "# Operações com conjuntos\n",
        "pares = {2, 4, 6, 8}\n",
        "print(numeros.union(pares)) # União\n",
        "print(numeros.intersection(pares)) # Interseção"
      ],
      "metadata": {
        "colab": {
          "base_uri": "https://localhost:8080/"
        },
        "id": "D5pYmy1B1MoL",
        "outputId": "0584e427-9ad5-4cb0-b5c8-425f46962ff8"
      },
      "execution_count": null,
      "outputs": [
        {
          "output_type": "stream",
          "name": "stdout",
          "text": [
            "{1, 2, 4, 5, 6, 8}\n",
            "{2, 4, 6}\n"
          ]
        }
      ]
    },
    {
      "cell_type": "markdown",
      "source": [
        "##Dicionarios"
      ],
      "metadata": {
        "id": "HX_vGpr61bdL"
      }
    },
    {
      "cell_type": "code",
      "source": [
        "alunos = [{\"nome\": \"João\", \"idade\": 20, \"curso\": \"ADS\"},\n",
        "        {\"nome\": \"Maria\", \"idade\": 18, \"curso\": \"ADS\"}]\n",
        "#acessando valores\n",
        "print(alunos[0][\"nome\"])\n",
        "#adicionando pares chave-valor\n",
        "alunos[0] [\"nota\"] = 9.5\n",
        "#removendo pares chave-valor\n",
        "del alunos[0] [\"idade\"]\n",
        "#iterando sobre o dicionario\n",
        "for aluno in alunos:\n",
        "  for chave, valor in aluno.items():\n",
        "    print(chave + \": \" + str(valor) + \", \", end = '')\n",
        "  print(\"\\n\")"
      ],
      "metadata": {
        "colab": {
          "base_uri": "https://localhost:8080/"
        },
        "id": "f5fuS1eC1e_T",
        "outputId": "cb8c7175-fc6e-410d-efd8-dee9856abb8d"
      },
      "execution_count": null,
      "outputs": [
        {
          "output_type": "stream",
          "name": "stdout",
          "text": [
            "João\n",
            "nome: João, curso: ADS, nota: 9.5, \n",
            "\n",
            "nome: Maria, idade: 18, curso: ADS, \n",
            "\n"
          ]
        }
      ]
    },
    {
      "cell_type": "code",
      "source": [
        "alunos = [{\"nome\": \"João\", \"idade\": 20, \"curso\": \"ADS\"},\n",
        "        {\"nome\": \"Maria\", \"idade\": 18, \"curso\": \"ADS\"}]\n",
        "\n",
        "for i, aluno in enumerate(alunos):\n",
        "  print(i)\n",
        "  if aluno[\"nome\"] == \"Maria\": # fazer maria virar mariah\n",
        "    aluno[\"nome\"] = \"Mariah\"\n",
        "\n",
        "print(alunos)"
      ],
      "metadata": {
        "colab": {
          "base_uri": "https://localhost:8080/"
        },
        "id": "e7YNOe1h51sl",
        "outputId": "88c25c84-2264-4b9d-941c-03c935c87635"
      },
      "execution_count": null,
      "outputs": [
        {
          "output_type": "stream",
          "name": "stdout",
          "text": [
            "0\n",
            "1\n",
            "[{'nome': 'João', 'idade': 20, 'curso': 'ADS'}, {'nome': 'Mariah', 'idade': 18, 'curso': 'ADS'}]\n"
          ]
        }
      ]
    },
    {
      "cell_type": "code",
      "source": [
        "emails_gerentes = {\n",
        "    \"Ryan\": \"ryan@gmail.com\",\n",
        "    \"Helena\": \"helena@gmail.com\",\n",
        "    \"Murilo\": \"murilo@gmail.com\"\n",
        "}\n",
        "#primeira forma de mostrar as chaves\n",
        "for nomes in emails_gerentes:\n",
        "  print(nomes)\n",
        "\n",
        "#segunda forma\n",
        "print(emails_gerentes.keys())\n",
        "\n",
        "#se eu quiser todos os email\n",
        "for nomes in emails_gerentes:\n",
        "  email = emails_gerentes[nomes]\n",
        "  print(email)\n",
        "\n",
        "#segunda forma de ter todos os emails\n",
        "print(emails_gerentes.values())\n",
        "\n",
        "\n",
        "#remover um nome\n",
        "emails_gerentes.pop('Murilo')\n",
        "print(emails_gerentes)\n",
        "\n",
        "#verificar\n",
        "if \"Murilo\" in emails_gerentes:\n",
        "  print(\"EXISTE\")\n",
        "else:\n",
        "  print(\"NÃO EXISTE\")"
      ],
      "metadata": {
        "colab": {
          "base_uri": "https://localhost:8080/"
        },
        "id": "tSogZltcRVwj",
        "outputId": "f0dd4f3d-3e60-49c0-9b09-4d56bcf108e1"
      },
      "execution_count": null,
      "outputs": [
        {
          "output_type": "stream",
          "name": "stdout",
          "text": [
            "Ryan\n",
            "Helena\n",
            "Murilo\n",
            "dict_keys(['Ryan', 'Helena', 'Murilo'])\n",
            "ryan@gmail.com\n",
            "helena@gmail.com\n",
            "murilo@gmail.com\n",
            "dict_values(['ryan@gmail.com', 'helena@gmail.com', 'murilo@gmail.com'])\n",
            "{'Ryan': 'ryan@gmail.com', 'Helena': 'helena@gmail.com'}\n",
            "NÃO EXISTE\n"
          ]
        }
      ]
    },
    {
      "cell_type": "markdown",
      "source": [
        "##List Comprehensions"
      ],
      "metadata": {
        "id": "OSLx1WQtGdHz"
      }
    },
    {
      "cell_type": "code",
      "source": [
        "# Criando uma lista de quadrados\n",
        "quadrados = [x**2 for x in range(10)]\n",
        "print(quadrados)\n",
        "\n",
        "# Filtrando elementos\n",
        "pares = [x for x in range(10) if x % 2 == 0]\n",
        "print(pares)"
      ],
      "metadata": {
        "colab": {
          "base_uri": "https://localhost:8080/"
        },
        "id": "lxEof4Q7GlD9",
        "outputId": "9a99fe84-6158-4944-e7d7-e054f2448da1"
      },
      "execution_count": null,
      "outputs": [
        {
          "output_type": "stream",
          "name": "stdout",
          "text": [
            "[0, 1, 4, 9, 16, 25, 36, 49, 64, 81]\n",
            "[0, 2, 4, 6, 8]\n"
          ]
        }
      ]
    },
    {
      "cell_type": "markdown",
      "source": [
        "##EXEMPLOS"
      ],
      "metadata": {
        "id": "9rP01GAUIKmv"
      }
    },
    {
      "cell_type": "code",
      "source": [
        "texto = \"Python é incrível\"\n",
        "frequencia = {}\n",
        "\n",
        "for char in texto:\n",
        "  if char in frequencia:\n",
        "    frequencia[char] += 1\n",
        "  else:\n",
        "    frequencia[char] = 1\n",
        "\n",
        "print(frequencia)"
      ],
      "metadata": {
        "colab": {
          "base_uri": "https://localhost:8080/"
        },
        "id": "kV3gDLv-HOUj",
        "outputId": "964c3123-b653-4c45-ab4e-b09cef95e38d"
      },
      "execution_count": null,
      "outputs": [
        {
          "output_type": "stream",
          "name": "stdout",
          "text": [
            "{'P': 1, 'y': 1, 't': 1, 'h': 1, 'o': 1, 'n': 2, ' ': 2, 'é': 1, 'i': 1, 'c': 1, 'r': 1, 'í': 1, 'v': 1, 'e': 1, 'l': 1}\n"
          ]
        }
      ]
    },
    {
      "cell_type": "code",
      "source": [
        "numeros = [1, 2, 2, 3, 4, 4, 5]\n",
        "unicos = list(set(numeros))\n",
        "print(unicos)"
      ],
      "metadata": {
        "colab": {
          "base_uri": "https://localhost:8080/"
        },
        "id": "MYVj2zqBIP_t",
        "outputId": "7a73b4c3-2250-4c67-b06a-55258381e403"
      },
      "execution_count": null,
      "outputs": [
        {
          "output_type": "stream",
          "name": "stdout",
          "text": [
            "[1, 2, 3, 4, 5]\n"
          ]
        }
      ]
    }
  ]
}