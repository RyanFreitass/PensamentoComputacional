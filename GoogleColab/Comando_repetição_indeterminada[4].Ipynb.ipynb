{
  "nbformat": 4,
  "nbformat_minor": 0,
  "metadata": {
    "colab": {
      "provenance": [],
      "collapsed_sections": [
        "0pBCCMZLJZ6i",
        "QlFvcvdZJ5GK",
        "Anym_D21LNYT",
        "y0t6WDaOjipM",
        "rhJrSxIInXeB",
        "vKztopIRrOxQ"
      ],
      "authorship_tag": "ABX9TyN9cwkV/hWGT84ROFx2txTD",
      "include_colab_link": true
    },
    "kernelspec": {
      "name": "python3",
      "display_name": "Python 3"
    },
    "language_info": {
      "name": "python"
    }
  },
  "cells": [
    {
      "cell_type": "markdown",
      "metadata": {
        "id": "view-in-github",
        "colab_type": "text"
      },
      "source": [
        "<a href=\"https://colab.research.google.com/github/RyanFreitass/PensamentoComputacional/blob/main/listadeexerciciospython4_Ipynb.ipynb\" target=\"_parent\"><img src=\"https://colab.research.google.com/assets/colab-badge.svg\" alt=\"Open In Colab\"/></a>"
      ]
    },
    {
      "cell_type": "markdown",
      "source": [
        "#1. Faça um algoritmo em Python que leia a nota de vários alunos de uma turma. Ao final, deve ser escrita a média geral da turma. A leitura das médias somente encerra quando uma nota negativa for digitada."
      ],
      "metadata": {
        "id": "0pBCCMZLJZ6i"
      }
    },
    {
      "cell_type": "code",
      "execution_count": null,
      "metadata": {
        "colab": {
          "base_uri": "https://localhost:8080/"
        },
        "id": "LtlIcozKCY5I",
        "outputId": "16f93440-b7ea-4648-89b8-d802c2659ef9"
      },
      "outputs": [
        {
          "output_type": "stream",
          "name": "stdout",
          "text": [
            "Digite a nota do aluno (ou um valor negativo para encerrar): 5\n",
            "Digite a nota do aluno (ou um valor negativo para encerrar): 5\n",
            "Digite a nota do aluno (ou um valor negativo para encerrar): 5\n",
            "Digite a nota do aluno (ou um valor negativo para encerrar): 5\n",
            "Digite a nota do aluno (ou um valor negativo para encerrar): 5\n",
            "Digite a nota do aluno (ou um valor negativo para encerrar): 5\n",
            "Digite a nota do aluno (ou um valor negativo para encerrar): -4\n",
            "\n",
            "A média geral da turma é: 5.00\n"
          ]
        }
      ],
      "source": [
        "#ALGORITMO um\n",
        "soma_notas = 0\n",
        "quantidade_notas = 0\n",
        "while True:\n",
        "  try:\n",
        "    nota = float(input(\"Digite a nota do aluno (ou um valor negativo para encerrar): \"))\n",
        "    if nota < 0:\n",
        "      break\n",
        "    soma_notas += nota\n",
        "    quantidade_notas += 1\n",
        "  except ValueError:\n",
        "    print(\"Por favor, digite um valor numérico válido.\")\n",
        "\n",
        "if quantidade_notas > 0:\n",
        "  media = soma_notas / quantidade_notas\n",
        "  print(f\"\\nA média geral da turma é: {media:.2f}\")\n",
        "else:\n",
        "  print(\"Nenhuma nota válida foi digitada.\")"
      ]
    },
    {
      "cell_type": "markdown",
      "source": [
        "#2. Faça um programa em Python para repetir a leitura de um número enquanto o valor fornecido for diferente de 0. Para cada número fornecido, escrever se ele é NEGATIVO ou POSITIVO. Quando o número 0 for fornecido o algoritmo deve encerrar informando o usuário."
      ],
      "metadata": {
        "id": "QlFvcvdZJ5GK"
      }
    },
    {
      "cell_type": "code",
      "source": [
        "#algoritmo dois\n",
        "num = 0\n",
        "\n",
        "#inicio\n",
        "while True:\n",
        "  num = float(input(\"Digite um número:\"))\n",
        "  if num == 0:\n",
        "    print(\"ALGORITMO ENCERRADO!\")\n",
        "    break\n",
        "  elif num > 0:\n",
        "    print(\"NUMERO POSITIVO\")\n",
        "  else:\n",
        "    print(\"NUMERO NEGATIVO\")"
      ],
      "metadata": {
        "colab": {
          "base_uri": "https://localhost:8080/"
        },
        "id": "GKPmVJ76J97C",
        "outputId": "32120e87-6ecd-4efa-feb5-88b621c4f077"
      },
      "execution_count": null,
      "outputs": [
        {
          "output_type": "stream",
          "name": "stdout",
          "text": [
            "Digite um número:5\n",
            "NUMERO POSITIVO\n",
            "Digite um número:6\n",
            "NUMERO POSITIVO\n",
            "Digite um número:-3\n",
            "NUMERO NEGATIVO\n",
            "Digite um número:0\n",
            "ALGORITMO ENCERRADO!\n"
          ]
        }
      ]
    },
    {
      "cell_type": "markdown",
      "source": [
        "\n",
        "#3. Faça um programa em Python para ler uma quantidade indeterminada de valores inteiros. Para cada valor fornecido apresentar uma mensagem que indique se o valor fornecido é PAR ou ÍMPAR. O programa será encerrado imediatamente após a leitura de um valor NULO (zero) ou NEGATIVO."
      ],
      "metadata": {
        "id": "Anym_D21LNYT"
      }
    },
    {
      "cell_type": "code",
      "source": [
        "#ALGORITMO TRES\n",
        "num = 0\n",
        "\n",
        "#inicio\n",
        "while True:\n",
        "  num = int(input(\"Digite um número inteiro e veja se é par ou impar:\"))\n",
        "  print(\"--\"*10)\n",
        "\n",
        "  if num == 0 or num < 0:\n",
        "    print(\"ALGORITMO ENCERRADO\")\n",
        "    break\n",
        "  elif num % 2 == 0:\n",
        "    print(f\"NÚMERO {num} é PAR\")\n",
        "  else:\n",
        "    print(f\"NÚMERO {num} é IMPAR\")\n"
      ],
      "metadata": {
        "colab": {
          "base_uri": "https://localhost:8080/"
        },
        "id": "W8C8j_x_iGpQ",
        "outputId": "e33828f8-2289-420b-8891-d2756e481a0a"
      },
      "execution_count": null,
      "outputs": [
        {
          "output_type": "stream",
          "name": "stdout",
          "text": [
            "Digite um número inteiro e veja se é par ou impar:8\n",
            "--------------------\n",
            "NÚMERO 8 é PAR\n",
            "Digite um número inteiro e veja se é par ou impar:0\n",
            "--------------------\n",
            "ALGORITMO ENCERRADO\n"
          ]
        }
      ]
    },
    {
      "cell_type": "markdown",
      "source": [
        "#4.Sabe-se que não existe divisão por zero, para isso faça um programa que leia dois valores inteiros e escreva o resultado da divisão do primeiro pelo segundo. Se o segundo valor informado for ZERO, deve ser impressa uma mensagem de VALOR INVÁLIDO e uma nova leitura do segundo valor deve ser realizada. Ao final do programa deve ser impressa a seguinte mensagem: VOCÊ DESEJA OUTRO CÁLCULO (S/N). Se a resposta for S o programa deverá retornar ao começo, caso contrário deverá encerrar."
      ],
      "metadata": {
        "id": "y0t6WDaOjipM"
      }
    },
    {
      "cell_type": "code",
      "source": [
        "#Algoritmo quatro\n",
        "n1 = 0\n",
        "n2 = 0\n",
        "divisao = 0.0\n",
        "resposta = \"\"\n",
        "\n",
        "#inicio\n",
        "while True:\n",
        "  n1 = int(input(\"Digite o primeiro número inteiro:\"))\n",
        "  n2 = int(input(\"Digite o segundo número inteiro:\"))\n",
        "\n",
        "  if n2 == 0:\n",
        "    print(\"Valor Inválido\")\n",
        "    n2 = int(input(\"Digite novamente o segundo número INTEIRO:\"))\n",
        "    divisao = n1 / n2\n",
        "    print(f\"Esse é o resultado da divisão: {round(divisao, 2)}\")\n",
        "  elif n2 > 0:\n",
        "    divisao = n1 / n2\n",
        "    print(f\"Esse é o resultado da divisão: {round(divisao, 2)}\")\n",
        "\n",
        "  resposta = str(input(\"VOCÊ DESEJA OUTRO CÁLCULO? [S/N]:\"))\n",
        "  if resposta == \"S\":\n",
        "    continue\n",
        "  elif resposta == \"N\":\n",
        "    print(\"ALGORITMO ENCERRADO\")\n",
        "    break\n",
        "\n",
        "\n",
        "\n"
      ],
      "metadata": {
        "colab": {
          "base_uri": "https://localhost:8080/"
        },
        "id": "8uVm8Ipxjqy6",
        "outputId": "d4da5320-3f3d-4f99-b75a-21fd854dfddb"
      },
      "execution_count": null,
      "outputs": [
        {
          "output_type": "stream",
          "name": "stdout",
          "text": [
            "Digite o primeiro número inteiro:10\n",
            "Digite o segundo número inteiro:3\n",
            "Esse é o resultado da divisão: 3.33\n",
            "VOCÊ DESEJA OUTRO CÁLCULO? [S/N]:S\n",
            "Digite o primeiro número inteiro:10\n",
            "Digite o segundo número inteiro:0\n",
            "Valor Inválido\n",
            "Digite novamente o segundo número INTEIRO:5\n",
            "Esse é o resultado da divisão: 2.0\n",
            "VOCÊ DESEJA OUTRO CÁLCULO? [S/N]:N\n",
            "ALGORITMO ENCERRADO\n"
          ]
        }
      ]
    },
    {
      "cell_type": "markdown",
      "source": [
        "#5. Faça um programa em Python que verifique a validade de uma senha fornecida pelo usuário. A senha válida é o número 1234.\n",
        "\n",
        "  OBS: Se a senha informada pelo usuário for inválida, a mensagem \"ACESSO NEGADO\" deve ser impressa e repetida a solicitação de uma nova senha até que ela seja válida. Caso contrário deve ser impressa a mensagem \"ACESSO PERMITIDO\" junto com um número que representa quantas vezes a senha foi informada."
      ],
      "metadata": {
        "id": "rhJrSxIInXeB"
      }
    },
    {
      "cell_type": "code",
      "source": [
        "#ALGORITMO CINCO\n",
        "senha_verdadeira = \"1234\"\n",
        "senha = \"\"\n",
        "tentativas = 0\n",
        "permitido = \"ACESSO PERMITIDO\"\n",
        "negado = \"ACESSO NEGADO\"\n",
        "\n",
        "#inicio\n",
        "while True:\n",
        "  senha = str(input(\"Digite a sua senha:\"))\n",
        "  tentativas += 1\n",
        "\n",
        "  if senha == senha_verdadeira:\n",
        "    print(f\"{permitido} com {tentativas} tentativas.\")\n",
        "    break\n",
        "  else:\n",
        "    print(negado)"
      ],
      "metadata": {
        "colab": {
          "base_uri": "https://localhost:8080/"
        },
        "id": "FMVjXc2-mBS0",
        "outputId": "3593953b-711c-4f29-d712-97d03e5aeed2"
      },
      "execution_count": null,
      "outputs": [
        {
          "output_type": "stream",
          "name": "stdout",
          "text": [
            "Digite a sua senha:43232\n",
            "ACESSO NEGADO\n",
            "Digite a sua senha:23423\n",
            "ACESSO NEGADO\n",
            "Digite a sua senha:432423\n",
            "ACESSO NEGADO\n",
            "Digite a sua senha:1234\n",
            "ACESSO PERMITIDO com 4 tentativas.\n"
          ]
        }
      ]
    },
    {
      "cell_type": "markdown",
      "source": [
        "#6. Faça um programa em Python que verifique a validade de uma senha fornecida pelo usuário. A senha válida é o número 1234. Se a senha informada pelo usuário for válida a mensagem \"ACESSO PERMITIDO\" deve ser informada. O usuário não terá acesso ao sistema se errar a senha três vezes, neste caso a mensagem \"ACESSO NEGADO\" deve ser informada e a cada vez que o usuário errar a senha, dentro do limite, a mensagem informada será \"SENHA ERRADA, TENTATIVA X DE 3\", sendo o X o número da tentativa."
      ],
      "metadata": {
        "id": "vKztopIRrOxQ"
      }
    },
    {
      "cell_type": "code",
      "source": [
        "#ALGORITMO SEIS\n",
        "senha_correta = \"1234\"\n",
        "senha_2 = \"\"\n",
        "tentativas2 = 0\n",
        "\n",
        "#inicio\n",
        "while True:\n",
        "    senha_2 = str(input(\"DIGITE SUA SENHA:\"))\n",
        "    tentativas2 += 1\n",
        "\n",
        "    if senha_2 == senha_correta:\n",
        "      print(\"ACESSO PERMITIDO\")\n",
        "      break\n",
        "    else:\n",
        "      if tentativas2 <= 3:\n",
        "        print(\"ACESSO NEGADO\")\n",
        "        print(f\"SENHA ERRADA, TENTATIVA {tentativas2} de 3\")\n",
        "      elif tentativas2 > 3:\n",
        "        print(\"LIMITE DE TENTATIVAS ALCANÇADO\")\n",
        "        break"
      ],
      "metadata": {
        "colab": {
          "base_uri": "https://localhost:8080/"
        },
        "id": "cwCwn1VrrdmO",
        "outputId": "5185af55-2fc5-41fe-94f8-71ba2c71cc42"
      },
      "execution_count": null,
      "outputs": [
        {
          "output_type": "stream",
          "name": "stdout",
          "text": [
            "DIGITE SUA SENHA:234234\n",
            "ACESSO NEGADO\n",
            "SENHA ERRADA, TENTATIVA 1 de 3\n",
            "DIGITE SUA SENHA:4234324\n",
            "ACESSO NEGADO\n",
            "SENHA ERRADA, TENTATIVA 2 de 3\n",
            "DIGITE SUA SENHA:432423\n",
            "ACESSO NEGADO\n",
            "SENHA ERRADA, TENTATIVA 3 de 3\n",
            "DIGITE SUA SENHA:1234\n",
            "ACESSO PERMITIDO\n"
          ]
        }
      ]
    }
  ]
}
