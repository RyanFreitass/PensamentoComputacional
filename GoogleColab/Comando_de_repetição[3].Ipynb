{
  "cells": [
    {
      "cell_type": "markdown",
      "metadata": {
        "id": "Szj4RPINh4A3"
      },
      "source": [
        "#**Lista de Exercicios 3**\n"
      ]
    },
    {
      "cell_type": "markdown",
      "metadata": {
        "id": "3KYcSpfHi_wF"
      },
      "source": [
        "#1. Transcreva o algoritmo a seguir para Python:\n",
        "\n",
        "```python\n",
        "ALGORITMO TABUADA_9;\n",
        "VAR\n",
        "  N, X, R : INTEIRO;\n",
        "INICIO\n",
        "  PARA X DE 1 ATE 10 FACA\n",
        "    INICIO\n",
        "      R ← 9 * X;\n",
        "      ESCREVER ( X, ‘ x 9 = ’, R);\n",
        "    FIM;\n",
        "  FIM_PARA;\n",
        "FIM.\n",
        "```"
      ]
    },
    {
      "cell_type": "code",
      "execution_count": null,
      "metadata": {
        "colab": {
          "base_uri": "https://localhost:8080/"
        },
        "id": "_kCOEpN3h0y7",
        "outputId": "6f4434c9-99c7-4dc1-8687-2ee6fa1d3cc9"
      },
      "outputs": [
        {
          "name": "stdout",
          "output_type": "stream",
          "text": [
            "1 x 9 = 9\n",
            "2 x 9 = 18\n",
            "3 x 9 = 27\n",
            "4 x 9 = 36\n",
            "5 x 9 = 45\n",
            "6 x 9 = 54\n",
            "7 x 9 = 63\n",
            "8 x 9 = 72\n",
            "9 x 9 = 81\n",
            "10 x 9 = 90\n"
          ]
        }
      ],
      "source": [
        "#ALGORITMO UM\n",
        "n = 0\n",
        "x = 0\n",
        "r = 0\n",
        "\n",
        "#inicio\n",
        "for x in range(1, 11):\n",
        "  r = 9 * x\n",
        "  print(x, \"x 9 =\", r)"
      ]
    },
    {
      "cell_type": "markdown",
      "metadata": {
        "id": "lFjSI31_lMNb"
      },
      "source": [
        "#2. Faça um programa em Python que mostre todos os números inteiros ímpares situados na faixa de 1000 a 1500."
      ]
    },
    {
      "cell_type": "code",
      "execution_count": null,
      "metadata": {
        "colab": {
          "base_uri": "https://localhost:8080/"
        },
        "id": "9VPmNfD7lajx",
        "outputId": "9c89f4e8-3d96-4409-ace4-9aa96bf3323a"
      },
      "outputs": [
        {
          "output_type": "stream",
          "name": "stdout",
          "text": [
            "1001\n",
            "1003\n",
            "1005\n",
            "1007\n",
            "1009\n",
            "1011\n",
            "1013\n",
            "1015\n",
            "1017\n",
            "1019\n",
            "1021\n",
            "1023\n",
            "1025\n",
            "1027\n",
            "1029\n",
            "1031\n",
            "1033\n",
            "1035\n",
            "1037\n",
            "1039\n",
            "1041\n",
            "1043\n",
            "1045\n",
            "1047\n",
            "1049\n",
            "1051\n",
            "1053\n",
            "1055\n",
            "1057\n",
            "1059\n",
            "1061\n",
            "1063\n",
            "1065\n",
            "1067\n",
            "1069\n",
            "1071\n",
            "1073\n",
            "1075\n",
            "1077\n",
            "1079\n",
            "1081\n",
            "1083\n",
            "1085\n",
            "1087\n",
            "1089\n",
            "1091\n",
            "1093\n",
            "1095\n",
            "1097\n",
            "1099\n",
            "1101\n",
            "1103\n",
            "1105\n",
            "1107\n",
            "1109\n",
            "1111\n",
            "1113\n",
            "1115\n",
            "1117\n",
            "1119\n",
            "1121\n",
            "1123\n",
            "1125\n",
            "1127\n",
            "1129\n",
            "1131\n",
            "1133\n",
            "1135\n",
            "1137\n",
            "1139\n",
            "1141\n",
            "1143\n",
            "1145\n",
            "1147\n",
            "1149\n",
            "1151\n",
            "1153\n",
            "1155\n",
            "1157\n",
            "1159\n",
            "1161\n",
            "1163\n",
            "1165\n",
            "1167\n",
            "1169\n",
            "1171\n",
            "1173\n",
            "1175\n",
            "1177\n",
            "1179\n",
            "1181\n",
            "1183\n",
            "1185\n",
            "1187\n",
            "1189\n",
            "1191\n",
            "1193\n",
            "1195\n",
            "1197\n",
            "1199\n",
            "1201\n",
            "1203\n",
            "1205\n",
            "1207\n",
            "1209\n",
            "1211\n",
            "1213\n",
            "1215\n",
            "1217\n",
            "1219\n",
            "1221\n",
            "1223\n",
            "1225\n",
            "1227\n",
            "1229\n",
            "1231\n",
            "1233\n",
            "1235\n",
            "1237\n",
            "1239\n",
            "1241\n",
            "1243\n",
            "1245\n",
            "1247\n",
            "1249\n",
            "1251\n",
            "1253\n",
            "1255\n",
            "1257\n",
            "1259\n",
            "1261\n",
            "1263\n",
            "1265\n",
            "1267\n",
            "1269\n",
            "1271\n",
            "1273\n",
            "1275\n",
            "1277\n",
            "1279\n",
            "1281\n",
            "1283\n",
            "1285\n",
            "1287\n",
            "1289\n",
            "1291\n",
            "1293\n",
            "1295\n",
            "1297\n",
            "1299\n",
            "1301\n",
            "1303\n",
            "1305\n",
            "1307\n",
            "1309\n",
            "1311\n",
            "1313\n",
            "1315\n",
            "1317\n",
            "1319\n",
            "1321\n",
            "1323\n",
            "1325\n",
            "1327\n",
            "1329\n",
            "1331\n",
            "1333\n",
            "1335\n",
            "1337\n",
            "1339\n",
            "1341\n",
            "1343\n",
            "1345\n",
            "1347\n",
            "1349\n",
            "1351\n",
            "1353\n",
            "1355\n",
            "1357\n",
            "1359\n",
            "1361\n",
            "1363\n",
            "1365\n",
            "1367\n",
            "1369\n",
            "1371\n",
            "1373\n",
            "1375\n",
            "1377\n",
            "1379\n",
            "1381\n",
            "1383\n",
            "1385\n",
            "1387\n",
            "1389\n",
            "1391\n",
            "1393\n",
            "1395\n",
            "1397\n",
            "1399\n",
            "1401\n",
            "1403\n",
            "1405\n",
            "1407\n",
            "1409\n",
            "1411\n",
            "1413\n",
            "1415\n",
            "1417\n",
            "1419\n",
            "1421\n",
            "1423\n",
            "1425\n",
            "1427\n",
            "1429\n",
            "1431\n",
            "1433\n",
            "1435\n",
            "1437\n",
            "1439\n",
            "1441\n",
            "1443\n",
            "1445\n",
            "1447\n",
            "1449\n",
            "1451\n",
            "1453\n",
            "1455\n",
            "1457\n",
            "1459\n",
            "1461\n",
            "1463\n",
            "1465\n",
            "1467\n",
            "1469\n",
            "1471\n",
            "1473\n",
            "1475\n",
            "1477\n",
            "1479\n",
            "1481\n",
            "1483\n",
            "1485\n",
            "1487\n",
            "1489\n",
            "1491\n",
            "1493\n",
            "1495\n",
            "1497\n",
            "1499\n"
          ]
        }
      ],
      "source": [
        "#ALGORITMO DOIS\n",
        "x = 0\n",
        "n = 0\n",
        "\n",
        "#inicio\n",
        "for x in range(1000, 1500):\n",
        "  if x % 2 != 0:\n",
        "      print(x)\n",
        "\n",
        "\n"
      ]
    },
    {
      "cell_type": "markdown",
      "metadata": {
        "id": "hJnfILbcmpXu"
      },
      "source": [
        "#3. Elabore um programa em Python que calcule e escreva a soma de 10 números lidos."
      ]
    },
    {
      "cell_type": "code",
      "execution_count": null,
      "metadata": {
        "colab": {
          "base_uri": "https://localhost:8080/"
        },
        "id": "AaQi19Rtm_SI",
        "outputId": "5802cdd6-bc51-446c-f7b7-0bd533ce2892"
      },
      "outputs": [
        {
          "output_type": "stream",
          "name": "stdout",
          "text": [
            "Informe o numero:3\n",
            "Informe o numero:3\n",
            "Informe o numero:3\n",
            "Informe o numero:3\n",
            "Informe o numero:3\n",
            "Informe o numero:3\n",
            "Informe o numero:3\n",
            "Informe o numero:3\n",
            "Informe o numero:3\n",
            "Informe o numero:3\n",
            "A soma dos 10 números é: 30.0\n"
          ]
        }
      ],
      "source": [
        "#ALGORITMO TRES\n",
        "soma = 0.0\n",
        "n = 0.0\n",
        "\n",
        "\n",
        "#inicio\n",
        "for x in range (1, 11):\n",
        "  n = float(input(\"Informe o numero:\"))\n",
        "  soma = soma + n\n",
        "\n",
        "print(\"A soma dos 10 números é:\", soma)\n"
      ]
    },
    {
      "cell_type": "markdown",
      "metadata": {
        "id": "iAv5X08unaW2"
      },
      "source": [
        "#4. Faça um programa em Python que leia a nota de 10 alunos de uma turma. Ao final, deve ser escrita a média geral da turma."
      ]
    },
    {
      "cell_type": "code",
      "execution_count": null,
      "metadata": {
        "id": "9y0awHZindsu",
        "colab": {
          "base_uri": "https://localhost:8080/"
        },
        "outputId": "f575bd19-3788-4aee-ac98-b9521f4d0a14"
      },
      "outputs": [
        {
          "output_type": "stream",
          "name": "stdout",
          "text": [
            "Digite a nota do 1º aluno:3.5\n",
            "Digite a nota do 2º aluno:4\n",
            "Digite a nota do 3º aluno:7\n",
            "Digite a nota do 4º aluno:4\n",
            "Digite a nota do 5º aluno:5\n",
            "Digite a nota do 6º aluno:9\n",
            "Digite a nota do 7º aluno:6\n",
            "Digite a nota do 8º aluno:7\n",
            "Digite a nota do 9º aluno:5.8\n",
            "Digite a nota do 10º aluno:4\n",
            "A média dos 10 alunos é: 5.53\n"
          ]
        }
      ],
      "source": [
        "#ALGORITMO QUATRO\n",
        "n = 0.0\n",
        "media = 0.0\n",
        "aluno = 0.0\n",
        "\n",
        "#inicio\n",
        "for x in range(1, 11):\n",
        "  aluno = float(input(f\"Digite a nota do {x}º aluno:\"))\n",
        "  n = n + aluno\n",
        "\n",
        "media = n / 10\n",
        "print(\"A média dos 10 alunos é:\", round(media, 2))"
      ]
    },
    {
      "cell_type": "markdown",
      "metadata": {
        "id": "C3d1rNyuq1wc"
      },
      "source": [
        "#5. Faça um programa em Python que leia 5 números. Para cada número fornecido, escreva se ele é NULO, NEGATIVO ou POSITIVO."
      ]
    },
    {
      "cell_type": "code",
      "execution_count": null,
      "metadata": {
        "colab": {
          "base_uri": "https://localhost:8080/"
        },
        "id": "OY8TAIJoq9Gk",
        "outputId": "09c8aff5-899e-4c69-aff0-3570e4c5b5e1"
      },
      "outputs": [
        {
          "output_type": "stream",
          "name": "stdout",
          "text": [
            "Digite um numero:6\n",
            "NUMERO POSITIVO\n",
            "Digite um numero:-45\n",
            "NUMERO NEGATIVO\n",
            "Digite um numero:0\n",
            "NUMERO NULO\n",
            "Digite um numero:0\n",
            "NUMERO NULO\n",
            "Digite um numero:10\n",
            "NUMERO POSITIVO\n"
          ]
        }
      ],
      "source": [
        "#ALGORITMO CINCO\n",
        "n = 0.0\n",
        "\n",
        "#inicio\n",
        "for x in range(1, 6):\n",
        "  n = float(input(\"Digite um numero:\"))\n",
        "  if n > 0:\n",
        "    print(\"NUMERO POSITIVO\")\n",
        "  else:\n",
        "    if n < 0:\n",
        "      print(\"NUMERO NEGATIVO\")\n",
        "    else:\n",
        "      print(\"NUMERO NULO\")"
      ]
    },
    {
      "cell_type": "markdown",
      "metadata": {
        "id": "wfp9PChyrmih"
      },
      "source": [
        "#6. Ler dois valores inteiros e escrever os números em sequência do menor até maior valor."
      ]
    },
    {
      "cell_type": "code",
      "execution_count": null,
      "metadata": {
        "colab": {
          "base_uri": "https://localhost:8080/"
        },
        "id": "NFGVFolqrpJA",
        "outputId": "1e6512c0-84c1-4dd1-bda7-5101acc07628"
      },
      "outputs": [
        {
          "name": "stdout",
          "output_type": "stream",
          "text": [
            "Digite o primeiro numero inteiro:5\n",
            "Digite o segundo numero inteiro:2\n",
            "SEQUENCIA DO MENOR AO MAIOR: 2 , 5\n"
          ]
        }
      ],
      "source": [
        "#algoritmo seis\n",
        "n1 = 0\n",
        "n2 = 0\n",
        "\n",
        "#inicio\n",
        "n1 = int(input(\"Digite o primeiro numero inteiro:\"))\n",
        "n2 = int(input(\"Digite o segundo numero inteiro:\"))\n",
        "\n",
        "if n1 > n2:\n",
        "  print(\"SEQUENCIA DO MENOR AO MAIOR:\", n2, \",\", n1)\n",
        "else:\n",
        "  print(\"SEQUENCIA DO MENOR AO MAIOR:\", n1, \",\", n2)"
      ]
    },
    {
      "cell_type": "markdown",
      "metadata": {
        "id": "AEruwBiksLbA"
      },
      "source": [
        "#7. Faça um programa em Python que escreva os números pares entre 100 e 200."
      ]
    },
    {
      "cell_type": "code",
      "execution_count": null,
      "metadata": {
        "colab": {
          "base_uri": "https://localhost:8080/"
        },
        "id": "QPTk7Z9GsQTA",
        "outputId": "20f128ec-f73e-4152-fbf2-c09e296b1b3f"
      },
      "outputs": [
        {
          "output_type": "stream",
          "name": "stdout",
          "text": [
            "100\n",
            "102\n",
            "104\n",
            "106\n",
            "108\n",
            "110\n",
            "112\n",
            "114\n",
            "116\n",
            "118\n",
            "120\n",
            "122\n",
            "124\n",
            "126\n",
            "128\n",
            "130\n",
            "132\n",
            "134\n",
            "136\n",
            "138\n",
            "140\n",
            "142\n",
            "144\n",
            "146\n",
            "148\n",
            "150\n",
            "152\n",
            "154\n",
            "156\n",
            "158\n",
            "160\n",
            "162\n",
            "164\n",
            "166\n",
            "168\n",
            "170\n",
            "172\n",
            "174\n",
            "176\n",
            "178\n",
            "180\n",
            "182\n",
            "184\n",
            "186\n",
            "188\n",
            "190\n",
            "192\n",
            "194\n",
            "196\n",
            "198\n"
          ]
        }
      ],
      "source": [
        "#ALGORITMO SETE\n",
        "n = 0\n",
        "\n",
        "#inicio\n",
        "for x in range(100, 200):\n",
        "  if x % 2 == 0:\n",
        "      print(x)\n",
        "\n",
        "\n"
      ]
    },
    {
      "cell_type": "markdown",
      "metadata": {
        "id": "jXzpNZXCs_ga"
      },
      "source": [
        "#8. Escrever um programa em Python que leia um valor para n, inteiro e positivo, e escreva a tabuada de n. Com os respectivos valores.\n",
        "\n",
        "  n x 1 =\n",
        "\n",
        "  n x 2 =\n",
        "\n",
        "  ...\n",
        "\n",
        "  n x 10 ="
      ]
    },
    {
      "cell_type": "code",
      "execution_count": null,
      "metadata": {
        "colab": {
          "base_uri": "https://localhost:8080/"
        },
        "id": "eMG1XcuutI8x",
        "outputId": "02107bf3-adf8-4cbf-a646-c09b91ff9ccc"
      },
      "outputs": [
        {
          "output_type": "stream",
          "name": "stdout",
          "text": [
            "Digite um valor inteiro e positivo:5\n",
            "5 x 1 = 5\n",
            "5 x 2 = 10\n",
            "5 x 3 = 15\n",
            "5 x 4 = 20\n",
            "5 x 5 = 25\n",
            "5 x 6 = 30\n",
            "5 x 7 = 35\n",
            "5 x 8 = 40\n",
            "5 x 9 = 45\n",
            "5 x 10 = 50\n"
          ]
        }
      ],
      "source": [
        "#algoritmo oito\n",
        "n = 0\n",
        "resultado = 0\n",
        "\n",
        "#inicio\n",
        "n = int(input(\"Digite um valor inteiro e positivo:\"))\n",
        "for x in range(1, 11):\n",
        "  resultado = n * x\n",
        "  print(n, \"x\", x, \"=\", resultado);\n"
      ]
    },
    {
      "cell_type": "markdown",
      "source": [
        "#9. Escrever um programa em Python que gera os números de 1000 a 1999 e escreve aqueles que divididos por 11 dão um resto igual a 5."
      ],
      "metadata": {
        "id": "LcuUVSs70NQr"
      }
    },
    {
      "cell_type": "code",
      "source": [
        "#algoritmo nove\n",
        "\n",
        "#inicio\n",
        "for x in range(1000, 2000):\n",
        "  if x % 11 == 5:\n",
        "    print(x)\n"
      ],
      "metadata": {
        "id": "xWEIJy8Y0Z1T",
        "colab": {
          "base_uri": "https://localhost:8080/"
        },
        "outputId": "53c19e09-201d-4c49-fc5c-5cdcada809b4"
      },
      "execution_count": null,
      "outputs": [
        {
          "output_type": "stream",
          "name": "stdout",
          "text": [
            "1006\n",
            "1017\n",
            "1028\n",
            "1039\n",
            "1050\n",
            "1061\n",
            "1072\n",
            "1083\n",
            "1094\n",
            "1105\n",
            "1116\n",
            "1127\n",
            "1138\n",
            "1149\n",
            "1160\n",
            "1171\n",
            "1182\n",
            "1193\n",
            "1204\n",
            "1215\n",
            "1226\n",
            "1237\n",
            "1248\n",
            "1259\n",
            "1270\n",
            "1281\n",
            "1292\n",
            "1303\n",
            "1314\n",
            "1325\n",
            "1336\n",
            "1347\n",
            "1358\n",
            "1369\n",
            "1380\n",
            "1391\n",
            "1402\n",
            "1413\n",
            "1424\n",
            "1435\n",
            "1446\n",
            "1457\n",
            "1468\n",
            "1479\n",
            "1490\n",
            "1501\n",
            "1512\n",
            "1523\n",
            "1534\n",
            "1545\n",
            "1556\n",
            "1567\n",
            "1578\n",
            "1589\n",
            "1600\n",
            "1611\n",
            "1622\n",
            "1633\n",
            "1644\n",
            "1655\n",
            "1666\n",
            "1677\n",
            "1688\n",
            "1699\n",
            "1710\n",
            "1721\n",
            "1732\n",
            "1743\n",
            "1754\n",
            "1765\n",
            "1776\n",
            "1787\n",
            "1798\n",
            "1809\n",
            "1820\n",
            "1831\n",
            "1842\n",
            "1853\n",
            "1864\n",
            "1875\n",
            "1886\n",
            "1897\n",
            "1908\n",
            "1919\n",
            "1930\n",
            "1941\n",
            "1952\n",
            "1963\n",
            "1974\n",
            "1985\n",
            "1996\n"
          ]
        }
      ]
    },
    {
      "cell_type": "markdown",
      "source": [
        "#10. Faça um programa em Python que leia um número qualquer (N), e realize a soma dos números de 1 até N. Ao final, deve-se escrever o resultado."
      ],
      "metadata": {
        "id": "6KIprxwG1ElV"
      }
    },
    {
      "cell_type": "code",
      "source": [
        "#algoritmo dez\n",
        "n = 0.0\n",
        "soma = 0\n",
        "\n",
        "#inicio\n",
        "n = int(input(\"Digite um numero:\"))\n",
        "for x in range(1, n + 1):\n",
        "  soma += x\n",
        "\n",
        "print(f\"O resultado da soma de 1 até {n} é:\", soma)\n"
      ],
      "metadata": {
        "id": "uxMj-fuE1H8M",
        "colab": {
          "base_uri": "https://localhost:8080/"
        },
        "outputId": "078e205b-56ce-4043-ae06-28874e93043d"
      },
      "execution_count": null,
      "outputs": [
        {
          "output_type": "stream",
          "name": "stdout",
          "text": [
            "Digite um numero:6\n",
            "O resultado da soma de 1 até 6 é: 21\n"
          ]
        }
      ]
    },
    {
      "cell_type": "markdown",
      "source": [
        "#11. Faça um programa em Python para ler 10 valores inteiros. Para cada valor fornecido escreva uma mensagem que indica se cada valor fornecido é PAR ou ÍMPAR."
      ],
      "metadata": {
        "id": "HrqpuYy51sjf"
      }
    },
    {
      "cell_type": "code",
      "source": [
        "#algoritmo onze\n",
        "n = 0\n",
        "\n",
        "#inicio\n",
        "for x in range(1, 11):\n",
        "  n = int(input(\"Digite um numero inteiro:\"))\n",
        "  if n % 2 == 0:\n",
        "    print(\"NUMERO PAR\")\n",
        "  else:\n",
        "    print(\"NUMERO IMPAR\")"
      ],
      "metadata": {
        "id": "mQdYvWBs1vUX",
        "colab": {
          "base_uri": "https://localhost:8080/"
        },
        "outputId": "ed3ddaac-60a3-486f-842d-8833f389158f"
      },
      "execution_count": null,
      "outputs": [
        {
          "output_type": "stream",
          "name": "stdout",
          "text": [
            "Digite um numero inteiro:3\n",
            "NUMERO IMPAR\n",
            "Digite um numero inteiro:5\n",
            "NUMERO IMPAR\n",
            "Digite um numero inteiro:1\n",
            "NUMERO IMPAR\n",
            "Digite um numero inteiro:2\n",
            "NUMERO PAR\n",
            "Digite um numero inteiro:4\n",
            "NUMERO PAR\n",
            "Digite um numero inteiro:6\n",
            "NUMERO PAR\n",
            "Digite um numero inteiro:8\n",
            "NUMERO PAR\n",
            "Digite um numero inteiro:3\n",
            "NUMERO IMPAR\n",
            "Digite um numero inteiro:7\n",
            "NUMERO IMPAR\n",
            "Digite um numero inteiro:9\n",
            "NUMERO IMPAR\n"
          ]
        }
      ]
    },
    {
      "cell_type": "markdown",
      "source": [
        "#12. Faça um programa em Python que leia a idade de 10 alunos, calcule e escreva a média de idade destes."
      ],
      "metadata": {
        "id": "xSPBh6Ma2L0P"
      }
    },
    {
      "cell_type": "code",
      "source": [
        "#ALGORITMO DOZE\n",
        "idade = 0\n",
        "soma = 0\n",
        "media = 0.0\n",
        "\n",
        "#inicio\n",
        "for x in range (1, 11):\n",
        "  idade = int(input(f\"Digite a idade do {x}º aluno:\"))\n",
        "  soma = soma + idade\n",
        "\n",
        "media = soma / 10\n",
        "print(\"A media de idade dos 10 alunos é:\", media)\n"
      ],
      "metadata": {
        "id": "JT1JNicX2OdB",
        "colab": {
          "base_uri": "https://localhost:8080/"
        },
        "outputId": "892c04a3-a309-4937-ae63-272e0b136fd0"
      },
      "execution_count": null,
      "outputs": [
        {
          "output_type": "stream",
          "name": "stdout",
          "text": [
            "Digite a idade do 1º aluno:10\n",
            "Digite a idade do 2º aluno:10\n",
            "Digite a idade do 3º aluno:10\n",
            "Digite a idade do 4º aluno:10\n",
            "Digite a idade do 5º aluno:10\n",
            "Digite a idade do 6º aluno:10\n",
            "Digite a idade do 7º aluno:10\n",
            "Digite a idade do 8º aluno:10\n",
            "Digite a idade do 9º aluno:10\n",
            "Digite a idade do 10º aluno:10\n",
            "A media de idade dos 10 alunos é: 10.0\n"
          ]
        }
      ]
    },
    {
      "cell_type": "markdown",
      "source": [
        "#13. Faça um algoritmo em Python que leia dois valores inteiros e escreva se eles estão em ordem crescente, decrescente ou são iguais, após isso escreva todos os valores do menor ao maior.\n",
        "\n"
      ],
      "metadata": {
        "id": "7h3dRiC326yL"
      }
    },
    {
      "cell_type": "code",
      "source": [
        "#algoritmo treze\n",
        "n1 = 0\n",
        "n2 = 0\n",
        "\n",
        "#inicio\n",
        "n1 = int(input(\"Digite o primeiro numero inteiro:\"))\n",
        "n2 = int(input(\"Digite o segundo numero inteiro:\"))\n",
        "\n",
        "if n1 > n2:\n",
        "  print(\"ORDEM CRESCENTE\")\n",
        "  print(f\"MENOR AO MAIOR: {n2}, {n1}\")\n",
        "else:\n",
        "  if n2 > n1:\n",
        "    print(\"ORDEM DECRESCENTE\")\n",
        "    print(f\"MENOR AO MAIOR: {n1}, {n2}\")\n",
        "  else:\n",
        "    print(\"IGUAIS\")"
      ],
      "metadata": {
        "id": "MMYUAK2O3Bnz",
        "colab": {
          "base_uri": "https://localhost:8080/"
        },
        "outputId": "05e403bc-3262-4131-a38a-d744c81ade42"
      },
      "execution_count": null,
      "outputs": [
        {
          "output_type": "stream",
          "name": "stdout",
          "text": [
            "Digite o primeiro numero inteiro:3\n",
            "Digite o segundo numero inteiro:8\n",
            "ORDEM DECRESCENTE\n",
            "MENOR AO MAIOR: 3, 8\n"
          ]
        }
      ]
    },
    {
      "cell_type": "markdown",
      "source": [
        "#14. Escrever um programa em Python que lê 10 valores para n, um de cada vez, todos inteiros e positivos, e para cada n lido, escreva a tabuada de 1 até n de n.\n",
        "\n",
        "      1 x n = n\n",
        "\n",
        "      2 x n = 2n\n",
        "\n",
        "      ...\n",
        "\n",
        "      n x n = n\n",
        "\n",
        "      2"
      ],
      "metadata": {
        "id": "JRM0bMx236-P"
      }
    },
    {
      "cell_type": "code",
      "source": [
        "#algoritmo quatorze\n",
        "\n",
        "\n",
        "#inicio\n",
        "for x in range(1, 10 + 1):\n",
        "    n = int(input(f\"Digite o {x}º número inteiro positivo: \"))\n",
        "\n",
        "    if n > 0:\n",
        "        print(f\"\\nA tabuada de 1 até {n} para {n}:\")\n",
        "        for i in range(1, n + 1):\n",
        "            print(f\"{n} x {i} = {n * i}\")\n",
        "    else:\n",
        "        print(\"\\n Número inválido. Por favor, digite apenas inteiros positivos.\\n\")\n"
      ],
      "metadata": {
        "id": "pXEQ-2C74Qzo",
        "colab": {
          "base_uri": "https://localhost:8080/"
        },
        "outputId": "01e68382-529e-4a35-cb72-475e23333244"
      },
      "execution_count": null,
      "outputs": [
        {
          "output_type": "stream",
          "name": "stdout",
          "text": [
            "Digite o 1º número inteiro positivo: 1\n",
            "\n",
            "A tabuada de 1 até 1 para 1:\n",
            "1 x 1 = 1\n",
            "Digite o 2º número inteiro positivo: 5\n",
            "\n",
            "A tabuada de 1 até 5 para 5:\n",
            "5 x 1 = 5\n",
            "5 x 2 = 10\n",
            "5 x 3 = 15\n",
            "5 x 4 = 20\n",
            "5 x 5 = 25\n",
            "Digite o 3º número inteiro positivo: 2\n",
            "\n",
            "A tabuada de 1 até 2 para 2:\n",
            "2 x 1 = 2\n",
            "2 x 2 = 4\n",
            "Digite o 4º número inteiro positivo: 3\n",
            "\n",
            "A tabuada de 1 até 3 para 3:\n",
            "3 x 1 = 3\n",
            "3 x 2 = 6\n",
            "3 x 3 = 9\n",
            "Digite o 5º número inteiro positivo: 4\n",
            "\n",
            "A tabuada de 1 até 4 para 4:\n",
            "4 x 1 = 4\n",
            "4 x 2 = 8\n",
            "4 x 3 = 12\n",
            "4 x 4 = 16\n",
            "Digite o 6º número inteiro positivo: 5\n",
            "\n",
            "A tabuada de 1 até 5 para 5:\n",
            "5 x 1 = 5\n",
            "5 x 2 = 10\n",
            "5 x 3 = 15\n",
            "5 x 4 = 20\n",
            "5 x 5 = 25\n",
            "Digite o 7º número inteiro positivo: 6\n",
            "\n",
            "A tabuada de 1 até 6 para 6:\n",
            "6 x 1 = 6\n",
            "6 x 2 = 12\n",
            "6 x 3 = 18\n",
            "6 x 4 = 24\n",
            "6 x 5 = 30\n",
            "6 x 6 = 36\n",
            "Digite o 8º número inteiro positivo: 7\n",
            "\n",
            "A tabuada de 1 até 7 para 7:\n",
            "7 x 1 = 7\n",
            "7 x 2 = 14\n",
            "7 x 3 = 21\n",
            "7 x 4 = 28\n",
            "7 x 5 = 35\n",
            "7 x 6 = 42\n",
            "7 x 7 = 49\n",
            "Digite o 9º número inteiro positivo: 8\n",
            "\n",
            "A tabuada de 1 até 8 para 8:\n",
            "8 x 1 = 8\n",
            "8 x 2 = 16\n",
            "8 x 3 = 24\n",
            "8 x 4 = 32\n",
            "8 x 5 = 40\n",
            "8 x 6 = 48\n",
            "8 x 7 = 56\n",
            "8 x 8 = 64\n",
            "Digite o 10º número inteiro positivo: 9\n",
            "\n",
            "A tabuada de 1 até 9 para 9:\n",
            "9 x 1 = 9\n",
            "9 x 2 = 18\n",
            "9 x 3 = 27\n",
            "9 x 4 = 36\n",
            "9 x 5 = 45\n",
            "9 x 6 = 54\n",
            "9 x 7 = 63\n",
            "9 x 8 = 72\n",
            "9 x 9 = 81\n"
          ]
        }
      ]
    }
  ],
  "metadata": {
    "colab": {
      "provenance": [],
      "collapsed_sections": [
        "3KYcSpfHi_wF",
        "lFjSI31_lMNb",
        "hJnfILbcmpXu",
        "iAv5X08unaW2",
        "C3d1rNyuq1wc",
        "wfp9PChyrmih",
        "AEruwBiksLbA",
        "jXzpNZXCs_ga",
        "LcuUVSs70NQr",
        "6KIprxwG1ElV",
        "HrqpuYy51sjf",
        "xSPBh6Ma2L0P",
        "7h3dRiC326yL",
        "JRM0bMx236-P"
      ],
      "authorship_tag": "ABX9TyMU0xlDiTvaAXUnur9oEcaS"
    },
    "kernelspec": {
      "display_name": "Python 3",
      "name": "python3"
    },
    "language_info": {
      "name": "python"
    }
  },
  "nbformat": 4,
  "nbformat_minor": 0
}
