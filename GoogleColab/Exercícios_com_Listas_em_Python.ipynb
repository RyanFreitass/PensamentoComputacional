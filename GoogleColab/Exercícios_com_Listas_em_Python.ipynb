{
  "cells": [
    {
      "cell_type": "markdown",
      "metadata": {
        "id": "MJ0CmqqPRFbs"
      },
      "source": [
        "#***Exercícios com Listas em Python***"
      ]
    },
    {
      "cell_type": "markdown",
      "metadata": {
        "id": "5CgQWOBURMj-"
      },
      "source": [
        "##Exercício 1 – Array de 5 Nomes"
      ]
    },
    {
      "cell_type": "code",
      "execution_count": null,
      "metadata": {
        "colab": {
          "base_uri": "https://localhost:8080/"
        },
        "id": "qu6qv0HRRCYa",
        "outputId": "b3f220e2-1772-4bf7-b0cf-d4f3b41bffe5"
      },
      "outputs": [
        {
          "name": "stdout",
          "output_type": "stream",
          "text": [
            "Digite o 1º nome: pedro\n",
            "Digite o 2º nome: ryan\n",
            "Digite o 3º nome: otavio\n",
            "Digite o 4º nome: luan\n",
            "Digite o 5º nome: pedro\n",
            "\n",
            "Nomes digitados:\n",
            "pedro\n",
            "ryan\n",
            "otavio\n",
            "luan\n",
            "pedro\n"
          ]
        }
      ],
      "source": [
        "#algoritmo um\n",
        "nomes = []\n",
        "\n",
        "\n",
        "for i in range(5):\n",
        "  nome = input(f\"Digite o {i+1}º nome: \")\n",
        "  nomes.append(nome)\n",
        "\n",
        "print(\"\\nNomes digitados:\")\n",
        "for nome in nomes:\n",
        "  print(nome)"
      ]
    },
    {
      "cell_type": "markdown",
      "metadata": {
        "id": "Xm-VMhYmUbqs"
      },
      "source": [
        "##Exercício 2 – Lista com Quantidade Informada"
      ]
    },
    {
      "cell_type": "code",
      "execution_count": null,
      "metadata": {
        "colab": {
          "base_uri": "https://localhost:8080/"
        },
        "id": "o0CkKqKRUe9l",
        "outputId": "1c791734-88cf-4a2b-9a86-7ed043e6fe04"
      },
      "outputs": [
        {
          "name": "stdout",
          "output_type": "stream",
          "text": [
            "Digite o número de nomes que serão informados: 2\n",
            "Digite o 1º nome: Ryan\n",
            "Digite o 2º nome: Freitas\n",
            "\n",
            "\n",
            "2\n",
            "Nomes digitados:\n",
            "Ryan\n",
            "Freitas\n"
          ]
        }
      ],
      "source": [
        "#algoritmo dois\n",
        "nomes = []\n",
        "num = 0\n",
        "\n",
        "#entrada\n",
        "qtd = int(input(\"Digite o número de nomes que serão informados: \"))\n",
        "\n",
        "for i in range(qtd):\n",
        "  nome = input(f\"Digite o {i+1}º nome: \")\n",
        "  nomes.append(nome)\n",
        "\n",
        "#saida\n",
        "print(\"\\n\")\n",
        "print(qtd)\n",
        "for nome in nomes:\n",
        "  print(nome)"
      ]
    },
    {
      "cell_type": "markdown",
      "metadata": {
        "id": "6rKASeRqWyrm"
      },
      "source": [
        "##Exercício 3 – Times de Futebol"
      ]
    },
    {
      "cell_type": "code",
      "execution_count": 3,
      "metadata": {
        "colab": {
          "base_uri": "https://localhost:8080/"
        },
        "id": "Wjm-moz2W2fV",
        "outputId": "c64ee93c-f5a9-4f8b-9166-1e055fa06c23"
      },
      "outputs": [
        {
          "name": "stdout",
          "output_type": "stream",
          "text": [
            "Quantos times de futebol irá inserir?1\n",
            "Fora do valor, digite um número acima de 2!!!\n",
            "Quantos times de futebol irá inserir?0\n",
            "Fora do valor, digite um número acima de 2!!!\n",
            "Quantos times de futebol irá inserir?3\n",
            "Digite o 1º time:gremio\n",
            "Digite o 2º time:inter\n",
            "Digite o 3º time:coxa\n",
            "\n",
            "gremio (primeiro)\n",
            "inter (meio)\n",
            "coxa (último)\n"
          ]
        }
      ],
      "source": [
        "#algoritmo tres\n",
        "while True:\n",
        "  qtd = int(input(\"Quantos times de futebol irá inserir?\"))\n",
        "  if qtd > 2:\n",
        "    break\n",
        "  else:\n",
        "    print(\"Fora do valor, digite um número acima de 2!!!\")\n",
        "times = []\n",
        "\n",
        "for i in range(qtd):\n",
        "  time = input(f\"Digite o {i+1}º time:\")\n",
        "  times.append(time)\n",
        "\n",
        "print(f\"\\n{times[0]} (primeiro)\")\n",
        "\n",
        "meio = qtd // 2\n",
        "if qtd % 2 == 0:\n",
        "    print(f\"{times[meio - 1]} / {times[meio]} (meio)\")\n",
        "else:\n",
        "    print(f\"{times[meio]} (meio)\")\n",
        "\n",
        "# Exibir o último time\n",
        "print(f\"{times[-1]} (último)\")"
      ]
    },
    {
      "cell_type": "markdown",
      "metadata": {
        "id": "ZnhpFyCoZZ0U"
      },
      "source": [
        "##Exercício 4 – Exibir Números (Ordem Normal)"
      ]
    },
    {
      "cell_type": "code",
      "execution_count": 12,
      "metadata": {
        "colab": {
          "base_uri": "https://localhost:8080/"
        },
        "id": "QUWIfIQ6ZeYr",
        "outputId": "b74bce32-893a-43fc-c51f-51de97630133"
      },
      "outputs": [
        {
          "name": "stdout",
          "output_type": "stream",
          "text": [
            "Digire um numero ou sair para parar de digitar!: 4\n",
            "Digire um numero ou sair para parar de digitar!: 3\n",
            "Digire um numero ou sair para parar de digitar!: 6\n",
            "Digire um numero ou sair para parar de digitar!: sair\n",
            "4.0\n",
            "3.0\n",
            "6.0\n"
          ]
        }
      ],
      "source": [
        "#algoritmo quatro\n",
        "\n",
        "qtd = int(input(\"Quantos números você quer inserir? \"))\n",
        "\n",
        "nums = []\n",
        "\n",
        "for i in range(qtd):\n",
        "  num = input(f\"Digite o {i+1}º número:\")\n",
        "  nums.append(num)\n",
        "\n",
        "for num in nums:\n",
        "  print(num)"
      ]
    },
    {
      "cell_type": "markdown",
      "metadata": {
        "id": "DNXf_8AybBkJ"
      },
      "source": [
        "##Exercício 5 – Exibir Números (Ordem Inversa)"
      ]
    },
    {
      "cell_type": "code",
      "execution_count": null,
      "metadata": {
        "colab": {
          "base_uri": "https://localhost:8080/"
        },
        "id": "2EDEowpbbGpB",
        "outputId": "2d22fea8-1e7c-4252-bb4a-db2e361ed9f4"
      },
      "outputs": [
        {
          "name": "stdout",
          "output_type": "stream",
          "text": [
            "Quantos números você quer inserir? 3\n",
            "Digite o 1º número:1\n",
            "Digite o 2º número:2\n",
            "Digite o 3º número:3\n",
            "3\n",
            "2\n",
            "1\n"
          ]
        }
      ],
      "source": [
        "#algoritmo cinco\n",
        "nums = []\n",
        "\n",
        "qtd = int(input(\"Quantos números você quer inserir? \"))\n",
        "\n",
        "for i in range(qtd):\n",
        "  num = int(input(f\"Digite o {i+1}º número:\"))\n",
        "  nums.append(num)\n",
        "\n",
        "for num in reversed(nums):\n",
        "  print(num)"
      ]
    },
    {
      "cell_type": "markdown",
      "metadata": {
        "id": "zyBLodXNa-55"
      },
      "source": [
        "##Exercício 6 – Exibir Números Pulando de 2 em 2"
      ]
    },
    {
      "cell_type": "code",
      "execution_count": null,
      "metadata": {
        "colab": {
          "base_uri": "https://localhost:8080/"
        },
        "id": "nIxDDeoVdtAg",
        "outputId": "1fbdbe5b-18a4-41fd-8f91-6ac6baa97342"
      },
      "outputs": [
        {
          "name": "stdout",
          "output_type": "stream",
          "text": [
            "Quantos números você quer inserir? 5\n",
            "Digite o 1º número:1\n",
            "Digite o 2º número:2\n",
            "Digite o 3º número:3\n",
            "Digite o 4º número:4\n",
            "Digite o 5º número:5\n",
            "1\n",
            "3\n",
            "5\n"
          ]
        }
      ],
      "source": [
        "#algoritmo seis\n",
        "nums = []\n",
        "\n",
        "qtd = int(input(\"Quantos números você quer inserir? \"))\n",
        "\n",
        "for i in range(qtd):\n",
        "  num = int(input(f\"Digite o {i+1}º número:\"))\n",
        "  nums.append(num)\n",
        "\n",
        "for i in range(0, len(nums), 2):\n",
        "    print(nums[i])\n"
      ]
    },
    {
      "cell_type": "markdown",
      "metadata": {
        "id": "DhxqwfIpbBFL"
      },
      "source": [
        "##Exercício 7 – Exibir Números Inversos Pulando de 3 em 3"
      ]
    },
    {
      "cell_type": "code",
      "execution_count": 5,
      "metadata": {
        "colab": {
          "base_uri": "https://localhost:8080/"
        },
        "id": "iym6IRXLbEgM",
        "outputId": "4328a430-252e-4cd0-c963-391c3770191f"
      },
      "outputs": [
        {
          "name": "stdout",
          "output_type": "stream",
          "text": [
            "Quantos números você quer inserir? 10\n",
            "Digite o 1º número:1\n",
            "Digite o 2º número:2\n",
            "Digite o 3º número:3\n",
            "Digite o 4º número:4\n",
            "Digite o 5º número:5\n",
            "Digite o 6º número:6\n",
            "Digite o 7º número:7\n",
            "Digite o 8º número:8\n",
            "Digite o 9º número:9\n",
            "Digite o 10º número:10\n",
            "10\n",
            "6\n",
            "2\n"
          ]
        }
      ],
      "source": [
        "#algoritmo sete\n",
        "nums = []\n",
        "\n",
        "qtd = int(input(\"Quantos números você quer inserir? \"))\n",
        "\n",
        "for i in range(qtd):\n",
        "  num = int(input(f\"Digite o {i+1}º número:\"))\n",
        "  nums.append(num)\n",
        "\n",
        "for i in range(len(nums) - 1, -1, -3):\n",
        "    print(nums[i])\n"
      ]
    },
    {
      "cell_type": "markdown",
      "metadata": {
        "id": "uveQzlkRddts"
      },
      "source": [
        "##Exercício 8 – Exibir a Partir do Meio"
      ]
    },
    {
      "cell_type": "code",
      "execution_count": null,
      "metadata": {
        "colab": {
          "base_uri": "https://localhost:8080/"
        },
        "id": "BCnv0bQGde1A",
        "outputId": "045b3324-6cc9-41a3-eaad-47e0890b32c9"
      },
      "outputs": [
        {
          "name": "stdout",
          "output_type": "stream",
          "text": [
            "Quantidade de números: 5\n",
            "1\n",
            "2\n",
            "3\n",
            "4\n",
            "5\n",
            "----------\n",
            "3\n",
            "2\n",
            "1\n",
            "3\n",
            "4\n",
            "5\n"
          ]
        }
      ],
      "source": [
        "#algoritmo oito\n",
        "n = int(input(\"Quantidade de números: \"))\n",
        "\n",
        "numeros = []\n",
        "for _ in range(n):\n",
        "    numeros.append(int(input()))\n",
        "\n",
        "print(\"--\"*)\n",
        "\n",
        "meio = n // 2\n",
        "\n",
        "if n % 2 == 0:\n",
        "    meio_inicio = meio - 1\n",
        "else:\n",
        "    meio_inicio = meio\n",
        "\n",
        "for i in range(meio_inicio, -1, -1):\n",
        "    print(numeros[i])\n",
        "\n",
        "for i in range(meio, n):\n",
        "    print(numeros[i])"
      ]
    },
    {
      "cell_type": "markdown",
      "metadata": {
        "id": "Hs4tdCQ0vPrZ"
      },
      "source": [
        "##Exercício 9 – Filtrar Salários"
      ]
    },
    {
      "cell_type": "code",
      "execution_count": null,
      "metadata": {
        "colab": {
          "base_uri": "https://localhost:8080/"
        },
        "id": "smN1YV2-vYtH",
        "outputId": "38b230ed-cf1b-4e0e-c1bf-0dfce175ba4d"
      },
      "outputs": [
        {
          "name": "stdout",
          "output_type": "stream",
          "text": [
            "Digite o número de salarios: 2\n",
            "Digite o 1 salario: 1000\n",
            "Digite o 2 salario: 2000\n",
            "2000.0\n"
          ]
        }
      ],
      "source": [
        "#algoritmo nove\n",
        "salarios = []\n",
        "qtd = int(input(\"Digite o número de salarios: \"))\n",
        "\n",
        "for x in range(qtd):\n",
        "  salario = float(input(f\"Digite o {x+1} salario: \"))\n",
        "  salarios.append(salario)\n",
        "\n",
        "for salario in salarios:\n",
        "  if salario >= 1412:   #Caso o salario for maior que 1412.00\n",
        "    print(salario)\n",
        "\n",
        "\n"
      ]
    },
    {
      "cell_type": "markdown",
      "metadata": {
        "id": "DztNPerA1prq"
      },
      "source": [
        "##Exercício 10 – Notas dos Alunos (Separar Aprovação)"
      ]
    },
    {
      "cell_type": "code",
      "execution_count": null,
      "metadata": {
        "colab": {
          "base_uri": "https://localhost:8080/"
        },
        "id": "77gc34Aj1N9B",
        "outputId": "7e1d9bcc-ad06-4fdd-8a08-e2e1f4c62319"
      },
      "outputs": [
        {
          "name": "stdout",
          "output_type": "stream",
          "text": [
            "Informe a quantidade de notas: 4\n",
            "Informe a nota: 5\n",
            "Informe a nota: 7\n",
            "Informe a nota: 9\n",
            "Informe a nota: 4\n",
            "Notas com média: 7.0, 9.0\n",
            "Notas sem média: 5.0, 4.0\n"
          ]
        }
      ],
      "source": [
        "#algoritmo dez\n",
        "quantidade = int(input(\"Informe a quantidade de notas: \"))\n",
        "\n",
        "com_media = \"\"\n",
        "sem_media = \"\"\n",
        "\n",
        "for _ in range(quantidade):\n",
        "    nota = float(input(\"Informe a nota: \"))\n",
        "    if nota >= 7.0:\n",
        "        if com_media != \"\":\n",
        "            com_media += \", \"\n",
        "        com_media += str(nota)\n",
        "    else:\n",
        "        if sem_media != \"\":\n",
        "            sem_media += \", \"\n",
        "        sem_media += str(nota)\n",
        "\n",
        "print(\"Notas com média:\", com_media)\n",
        "print(\"Notas sem média:\", sem_media)"
      ]
    },
    {
      "cell_type": "markdown",
      "metadata": {
        "id": "syykt8QX4p6k"
      },
      "source": [
        "##Exercício 11 – Soma de 12 Salários\n"
      ]
    },
    {
      "cell_type": "code",
      "execution_count": null,
      "metadata": {
        "colab": {
          "base_uri": "https://localhost:8080/"
        },
        "id": "TQew-I3I5L34",
        "outputId": "b8b84586-bec7-4426-a3b1-9984f8b9ea26"
      },
      "outputs": [
        {
          "name": "stdout",
          "output_type": "stream",
          "text": [
            "Digite o 1 salário: 4000\n",
            "Digite o 2 salário: 4000\n",
            "Digite o 3 salário: 4000\n",
            "Digite o 4 salário: 4000\n",
            "Digite o 5 salário: 4000\n",
            "Digite o 6 salário: 4000\n",
            "Digite o 7 salário: 4000\n",
            "Digite o 8 salário: 4000\n",
            "Digite o 9 salário: 4000\n",
            "Digite o 10 salário: 4000\n",
            "Digite o 11 salário: 4000\n",
            "Digite o 12 salário: 4000\n",
            "--------------------\n",
            "[4000.0, 4000.0, 4000.0, 4000.0, 4000.0, 4000.0, 4000.0, 4000.0, 4000.0, 4000.0, 4000.0, 4000.0]\n",
            "--------------------\n",
            "48000.0\n"
          ]
        }
      ],
      "source": [
        "#algoritmo onze\n",
        "salarios = []\n",
        "soma = 0.0\n",
        "\n",
        "for i in range(12):\n",
        "  salario = float(input(f\"Digite o {i+1} salário: \"))\n",
        "  soma = soma + salario\n",
        "  salarios.append(salario)\n",
        "\n",
        "print(\"--\"*10)\n",
        "print(salarios)\n",
        "print(\"--\"*10)\n",
        "print(soma)\n"
      ]
    },
    {
      "cell_type": "markdown",
      "metadata": {
        "id": "UgP_jtWz6tdw"
      },
      "source": [
        "##Exercício 12 – Média de Notas"
      ]
    },
    {
      "cell_type": "code",
      "execution_count": null,
      "metadata": {
        "colab": {
          "base_uri": "https://localhost:8080/"
        },
        "id": "odENTbZc6x4C",
        "outputId": "f14399af-5e04-4786-b228-ff68f24cc675"
      },
      "outputs": [
        {
          "name": "stdout",
          "output_type": "stream",
          "text": [
            "Informe a quantidade de notas: 3\n",
            "Digite a 1 nota: 5\n",
            "Digite a 2 nota: 9\n",
            "Digite a 3 nota: 4\n",
            "6.0\n"
          ]
        }
      ],
      "source": [
        "#algoritmo doze\n",
        "notas = []\n",
        "media = 0.0\n",
        "soma = 0.0\n",
        "\n",
        "quantidade = int(input(\"Informe a quantidade de notas: \"))\n",
        "\n",
        "for i in range(quantidade):\n",
        "  nota = float(input(f\"Digite a {i+1} nota: \"))\n",
        "  soma = soma + nota\n",
        "\n",
        "media = soma / quantidade\n",
        "print(media)"
      ]
    },
    {
      "cell_type": "markdown",
      "metadata": {
        "id": "q0Vx6edx8d8V"
      },
      "source": [
        "##Exercício 13 – Contagem de Notas Acima e Abaixo da Média"
      ]
    },
    {
      "cell_type": "code",
      "execution_count": null,
      "metadata": {
        "colab": {
          "base_uri": "https://localhost:8080/"
        },
        "id": "JnOWwqVp9d78",
        "outputId": "3c2ced0e-4c61-4979-c8bb-618caf104a13"
      },
      "outputs": [
        {
          "name": "stdout",
          "output_type": "stream",
          "text": [
            "Informe a quantidade de notas: 3\n",
            "Digite a 1 nota: 8\n",
            "Digite a 2 nota: 4\n",
            "Digite a 3 nota: 6\n",
            "--------------------\n",
            "3\n",
            "[8.0, 4.0, 6.0]\n",
            "Alcançaram a média: 1\n",
            "Não alcançaram a média: 2\n"
          ]
        }
      ],
      "source": [
        "#algoritmo treze\n",
        "notas = []\n",
        "alcançaram = 0\n",
        "n_alcançaram = 0\n",
        "media = 7\n",
        "\n",
        "quantidade = int(input(\"Informe a quantidade de notas: \"))\n",
        "\n",
        "for i in range(quantidade):\n",
        "  nota = float(input(f\"Digite a {i+1} nota: \"))\n",
        "  if nota >= media:\n",
        "    alcançaram += 1\n",
        "  else:\n",
        "    n_alcançaram += 1\n",
        "  notas.append(nota)\n",
        "\n",
        "print(\"--\"*10)\n",
        "print(quantidade)\n",
        "print(notas)\n",
        "print(f\"Alcançaram a média: {alcançaram}\")\n",
        "print(f\"Não alcançaram a média: {n_alcançaram}\")\n",
        "\n"
      ]
    },
    {
      "cell_type": "markdown",
      "metadata": {
        "id": "uFjYjNrm_Odb"
      },
      "source": [
        "##Exercício 14 – Classificação de Idades"
      ]
    },
    {
      "cell_type": "code",
      "execution_count": null,
      "metadata": {
        "colab": {
          "base_uri": "https://localhost:8080/"
        },
        "id": "Fv_ihn7Z_Wro",
        "outputId": "f8a5d8f4-2d6d-4d1b-df5d-88669dd7bf00"
      },
      "outputs": [
        {
          "name": "stdout",
          "output_type": "stream",
          "text": [
            "Informe a quantidade de idades: 6\n",
            "Digite a 1 idade: 13\n",
            "Digite a 2 idade: 1\n",
            "Digite a 3 idade: 56\n",
            "Digite a 4 idade: 34\n",
            "Digite a 5 idade: 12\n",
            "Digite a 6 idade: 17\n",
            "--------------------\n",
            "6\n",
            "[13, 1, 56, 34, 12, 17]\n",
            "Crianças: 1\n",
            "Adolescentes: 3\n",
            "Adultos: 2\n"
          ]
        }
      ],
      "source": [
        "#Algoritmo quatorze\n",
        "idades = []\n",
        "criança = 0\n",
        "adolescente = 0\n",
        "adulto = 0\n",
        "\n",
        "quantidade = int(input(\"Informe a quantidade de idades: \"))\n",
        "\n",
        "for i in range(quantidade):\n",
        "  idade = int(input(f\"Digite a {i+1} idade: \"))\n",
        "  if idade <= 11:\n",
        "    criança += 1\n",
        "  elif idade >= 12 and idade <= 17:\n",
        "    adolescente += 1\n",
        "  else:\n",
        "    adulto += 1\n",
        "  idades.append(idade)\n",
        "\n",
        "print(\"--\"*10)\n",
        "print(quantidade)\n",
        "print(idades)\n",
        "print(f\"Crianças: {criança}\")\n",
        "print(f\"Adolescentes: {adolescente}\")\n",
        "print(f\"Adultos: {adulto}\")\n"
      ]
    },
    {
      "cell_type": "markdown",
      "metadata": {
        "id": "Qc4voDdaAjU7"
      },
      "source": [
        "##Exercício 15 – Média de Idades por Grupo"
      ]
    },
    {
      "cell_type": "code",
      "execution_count": null,
      "metadata": {
        "colab": {
          "base_uri": "https://localhost:8080/"
        },
        "id": "xOqvEn3DAxi1",
        "outputId": "a3e7c69c-8ef5-4c93-c6c7-af196ed3605e"
      },
      "outputs": [
        {
          "name": "stdout",
          "output_type": "stream",
          "text": [
            "Informe a quantidade de idades: 4\n",
            "Digite a 1 idade: 13\n",
            "Digite a 2 idade: 34\n",
            "Digite a 3 idade: 22\n",
            "Digite a 4 idade: 16\n",
            "--------------------\n",
            "4\n",
            "[13, 34, 22, 16]\n",
            "Nenhuma idade de criança informada.\n",
            "Adolescentes: 2, Média: 14.5\n",
            "Adultos: 2, Média: 28.0\n"
          ]
        }
      ],
      "source": [
        "#algoritmo quinze\n",
        "idades = []\n",
        "criança = 0\n",
        "adolescente = 0\n",
        "adulto = 0\n",
        "idade_criança = 0\n",
        "idade_adolescente = 0\n",
        "idade_adulto = 0\n",
        "\n",
        "quantidade = int(input(\"Informe a quantidade de idades: \"))\n",
        "\n",
        "for i in range(quantidade):\n",
        "  idade = int(input(f\"Digite a {i+1} idade: \"))\n",
        "  if idade <= 11:\n",
        "    idade_criança = idade_criança + idade\n",
        "    criança += 1\n",
        "  elif idade >= 12 and idade <= 17:\n",
        "    idade_adolescente = idade_adolescente + idade\n",
        "    adolescente += 1\n",
        "  else:\n",
        "    idade_adulto = idade_adulto + idade\n",
        "    adulto += 1\n",
        "  idades.append(idade)\n",
        "\n",
        "print(\"--\"*10)\n",
        "print(quantidade)\n",
        "print(idades)\n",
        "if criança == 0:\n",
        "  print(\"Nenhuma idade de criança informada.\")\n",
        "else:\n",
        "  print(f\"Crianças: {criança}, Média: {idade_criança / criança}\")\n",
        "\n",
        "if adolescente == 0:\n",
        "  print(\"Nenhuma idade de adolescente informada.\")\n",
        "else:\n",
        "  print(f\"Adolescentes: {adolescente}, Média: {idade_adolescente / adolescente}\")\n",
        "\n",
        "if adulto == 0:\n",
        "  print(\"Nenhuma idade de adulto informada.\")\n",
        "else:\n",
        "  print(f\"Adultos: {adulto}, Média: {idade_adulto / adulto}\")\n"
      ]
    },
    {
      "cell_type": "markdown",
      "metadata": {
        "id": "cW5-oGAsEZa8"
      },
      "source": [
        "##Exercício 16 – Contar Números Primos"
      ]
    },
    {
      "cell_type": "code",
      "execution_count": null,
      "metadata": {
        "colab": {
          "base_uri": "https://localhost:8080/"
        },
        "id": "Hl8t950ZEgYk",
        "outputId": "e6aa6ac7-2397-4fc0-fa55-83764f574ead"
      },
      "outputs": [
        {
          "name": "stdout",
          "output_type": "stream",
          "text": [
            "Informe a quantidade de números: 4\n",
            "Informe o 1º número: 2\n",
            "Informe o 2º número: 7\n",
            "Informe o 3º número: 10\n",
            "Informe o 4º número: 11\n",
            "--------------------\n",
            "Quantidade de números: 4\n",
            "Números informados: [2, 7, 10, 11]\n",
            "Total de números primos: 3\n"
          ]
        }
      ],
      "source": [
        "#algoritmo dezesseis\n",
        "import math\n",
        "\n",
        "nums = []\n",
        "contador_primo = 0\n",
        "\n",
        "quantidade = int(input(\"Informe a quantidade de números: \"))\n",
        "\n",
        "for i in range(quantidade):\n",
        "    num = int(input(f\"Informe o {i+1}º número: \"))\n",
        "\n",
        "    if num > 1:\n",
        "        primo = True\n",
        "\n",
        "\n",
        "        for divisor in range(2, int(math.sqrt(num)) + 1):\n",
        "            if num % divisor == 0:\n",
        "                primo = False\n",
        "                break\n",
        "\n",
        "        if primo:\n",
        "            contador_primo += 1\n",
        "    else:\n",
        "        continue\n",
        "    nums.append(num)\n",
        "\n",
        "print(\"--\"*10)\n",
        "print(f\"Quantidade de números: {quantidade}\")\n",
        "print(\"Números informados:\", nums)\n",
        "print(\"Total de números primos:\", contador_primo)"
      ]
    }
  ],
  "metadata": {
    "colab": {
      "authorship_tag": "ABX9TyMdTZHaj3WA2fcY//5sbUUl",
      "collapsed_sections": [
        "UgP_jtWz6tdw",
        "q0Vx6edx8d8V",
        "uFjYjNrm_Odb"
      ],
      "provenance": []
    },
    "kernelspec": {
      "display_name": "Python 3",
      "name": "python3"
    },
    "language_info": {
      "name": "python"
    }
  },
  "nbformat": 4,
  "nbformat_minor": 0
}
