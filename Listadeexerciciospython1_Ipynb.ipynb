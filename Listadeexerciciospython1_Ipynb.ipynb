{
  "nbformat": 4,
  "nbformat_minor": 0,
  "metadata": {
    "colab": {
      "provenance": [],
      "authorship_tag": "ABX9TyMZHDl+g+53laWdYYg/imQM",
      "include_colab_link": true
    },
    "kernelspec": {
      "name": "python3",
      "display_name": "Python 3"
    },
    "language_info": {
      "name": "python"
    }
  },
  "cells": [
    {
      "cell_type": "markdown",
      "metadata": {
        "id": "view-in-github",
        "colab_type": "text"
      },
      "source": [
        "<a href=\"https://colab.research.google.com/github/RyanFreitass/PensamentoComputacional/blob/main/Listadeexerciciospython1_Ipynb.ipynb\" target=\"_parent\"><img src=\"https://colab.research.google.com/assets/colab-badge.svg\" alt=\"Open In Colab\"/></a>"
      ]
    },
    {
      "cell_type": "markdown",
      "source": [
        "#Exercícios de Aula Comandos de Entrada e Saída em Python"
      ],
      "metadata": {
        "id": "ThPjjB3n8VER"
      }
    },
    {
      "cell_type": "markdown",
      "source": [
        "1-Faça em Python um algoritmo que leia um número inteiro qualquer. O algoritmo deve calcular e escrever o quadrado, a raiz quadrada, e a divisão do quadrado pela raiz quadrada do número lido"
      ],
      "metadata": {
        "id": "LHos48Mb84z_"
      }
    },
    {
      "cell_type": "code",
      "source": [
        "# Algoritmo de calculo de quadrado, raiz quadrada e divisão do quadrado pela raiz quadrada\n",
        "\n",
        "#bibliotecas\n",
        "import math\n",
        "\n",
        "#var\n",
        "n = 0\n",
        "quadrado = 0\n",
        "raiz = 0.0\n",
        "div_quad_raiz = 0.0\n"
      ],
      "metadata": {
        "id": "G88WsYdFCJt_"
      },
      "execution_count": null,
      "outputs": []
    },
    {
      "cell_type": "code",
      "source": [
        "#inicio\n",
        "n = int(input(\"Informe um numero inteiro qualquer:\"))\n",
        "\n",
        "#quadrado de n\n",
        "quadrado = n ** 2\n",
        "\n",
        "#raiz quadrada de n\n",
        "raiz = math.sqrt(n)\n",
        "\n",
        "# divisao do quadrado pela raiz\n",
        "div_quad_raiz = quadrado/raiz\n",
        "\n",
        "print(\"O quadrado de\",n , \"é\", quadrado, \", a raiz quadrada é\", raiz, \"e a divisão do quadrado pela raiz é\", div_quad_raiz)\n",
        "\n",
        "\n"
      ],
      "metadata": {
        "colab": {
          "base_uri": "https://localhost:8080/"
        },
        "id": "2l35FdT69ECn",
        "outputId": "5462ee8a-801b-41b9-8d6d-174c7cd52320"
      },
      "execution_count": null,
      "outputs": [
        {
          "output_type": "stream",
          "name": "stdout",
          "text": [
            "Informe um numero inteiro qualquer:9\n",
            "O quadrado de 9 é 81 , a raiz quadrada é 3.0 e a divisão do quadrado pela raiz é 27.0\n"
          ]
        }
      ]
    },
    {
      "cell_type": "markdown",
      "source": [
        "2- Faça em Python um algoritmo que calcule e escreva o preço final de um computador, sendo fornecido o preço de fábrica. O preço final do computador é calculado com base nos adicionais de: 30 % de imposto e 10 % de revenda sobre o preço de fábrica."
      ],
      "metadata": {
        "id": "49ThIQa2Bl62"
      }
    },
    {
      "cell_type": "code",
      "source": [
        " #algoritmo dois\n",
        "\n",
        "preco_final = 0.0\n",
        "preco_fab = 0.0\n",
        "imp = 0.0\n",
        "rev = 0.0\n",
        "\n"
      ],
      "metadata": {
        "id": "B0KjOhtO-tT2"
      },
      "execution_count": null,
      "outputs": []
    },
    {
      "cell_type": "code",
      "source": [
        "#inicio\n",
        "preco_fab = float(input(\"Informe o preço de fabrica:\"))\n",
        "\n",
        "imp = preco_fab * 30 / 100\n",
        "\n",
        "rev = preco_fab * 10 / 100\n",
        "\n",
        "preco_final = preco_fab + imp + rev\n",
        "\n",
        "print(\"O preço final do computador é \", round(preco_final, 2))"
      ],
      "metadata": {
        "colab": {
          "base_uri": "https://localhost:8080/"
        },
        "id": "CTzLr1RFCy4w",
        "outputId": "b83ed6da-361e-41f5-acde-762944c5b53f"
      },
      "execution_count": null,
      "outputs": [
        {
          "output_type": "stream",
          "name": "stdout",
          "text": [
            "Informe o preço de fabrica:1234.78\n",
            "O preço final do computador é  1728.69\n"
          ]
        }
      ]
    },
    {
      "cell_type": "markdown",
      "source": [
        "3- Faça um algoritmo em Python que leia três números inteiros e calcule a sua média. Ao final, o algoritmo deve escrever os números lidos e o resultado da média.\n"
      ],
      "metadata": {
        "id": "xofN5qJ8FTao"
      }
    },
    {
      "cell_type": "code",
      "source": [
        "#Algoritmo tres\n",
        "n1 = 0\n",
        "n2 = 0\n",
        "n3 = 0\n",
        "media = 0.0\n"
      ],
      "metadata": {
        "id": "UE6nXDUDFZFB"
      },
      "execution_count": null,
      "outputs": []
    },
    {
      "cell_type": "code",
      "source": [
        "#inicio\n",
        "n1 = int(input(\"Informe o primeiro numero inteiro:\"))\n",
        "n2 = int(input(\"Informe o segundo numero inteiro:\"))\n",
        "n3 = int(input(\"Informe o terceiro numero inteiro:\"))\n",
        "\n",
        "media = n1 + n2 + n3\n",
        "media = media / 3\n",
        "\n",
        "print(\"A média é \", media)"
      ],
      "metadata": {
        "colab": {
          "base_uri": "https://localhost:8080/"
        },
        "id": "ClzW8gq3FkBo",
        "outputId": "6558779e-2083-46e4-e8f0-3d6cbd1666e2"
      },
      "execution_count": null,
      "outputs": [
        {
          "output_type": "stream",
          "name": "stdout",
          "text": [
            "Informe o primeiro numero inteiro:2\n",
            "Informe o segundo numero inteiro:2\n",
            "Informe o terceiro numero inteiro:2\n",
            "A média é  2.0\n"
          ]
        }
      ]
    },
    {
      "cell_type": "markdown",
      "source": [
        "4- Fazer um algoritmo em Python que calcule o número de litros de combustível gastos em uma viagem, sabendo-se que o carro faz 12 km com um litro. Deverão ser lidos o tempo gasto na viagem e a velocidade média. Aplicar as seguintes fórmulas:"
      ],
      "metadata": {
        "id": "fYnMxMD-GIA7"
      }
    },
    {
      "cell_type": "code",
      "source": [
        "#Algoritmo 4\n",
        "tempo_gasto = 0\n",
        "velocidade = 0.0\n",
        "distancia = 0\n",
        "um_litro = 12\n",
        "litros = 0.0"
      ],
      "metadata": {
        "id": "vXExf6uCGMKK"
      },
      "execution_count": null,
      "outputs": []
    },
    {
      "cell_type": "code",
      "source": [
        "#Inicio\n",
        "tempo_gasto = int(input(\"Informe o seu tempo gasto:\"))\n",
        "velocidade = float(input(\"Informe a sua velocidade:\"))\n",
        "\n",
        "distancia = tempo_gasto * velocidade\n",
        "litros = distancia / um_litro\n",
        "\n",
        "print(\"Foram gastados \", litros, \" litros\")\n",
        "\n"
      ],
      "metadata": {
        "colab": {
          "base_uri": "https://localhost:8080/"
        },
        "id": "1FxsO8npGnAi",
        "outputId": "d4125f30-b2c3-4ac5-ba19-ef4ce0bec9f4"
      },
      "execution_count": null,
      "outputs": [
        {
          "output_type": "stream",
          "name": "stdout",
          "text": [
            "Informe o seu tempo gasto:60\n",
            "Informe a sua velocidade:30\n",
            "Foram gastados  150.0  litros\n"
          ]
        }
      ]
    },
    {
      "cell_type": "markdown",
      "source": [
        "5- Faça em Python um algoritmo que leia dois números inteiros (x e y), e calcule o quociente e o resto da divisão de x por y e escreva os resultados.\n"
      ],
      "metadata": {
        "id": "6CtFqI4pJQi5"
      }
    },
    {
      "cell_type": "code",
      "source": [
        "#algoritmo 5\n",
        "n1 = 0\n",
        "n2 = 0"
      ],
      "metadata": {
        "id": "iwzYYLL0JVJa"
      },
      "execution_count": null,
      "outputs": []
    },
    {
      "cell_type": "code",
      "source": [
        "#inicio\n",
        "n1 = int(input(\"Informe um numero inteiro:\"))\n",
        "n2 = int(input(\"Informe um segundo numero inteiro:\"))\n",
        "\n",
        "print(\"O quociente é \", n1 // n2, \", e o resto da divisão é \", n1 % n2)"
      ],
      "metadata": {
        "id": "pkPXBm90JZqT",
        "colab": {
          "base_uri": "https://localhost:8080/"
        },
        "outputId": "2419404d-0990-4f55-ced9-c4aadb41d70a"
      },
      "execution_count": null,
      "outputs": [
        {
          "output_type": "stream",
          "name": "stdout",
          "text": [
            "Informe um numero inteiro:10\n",
            "Informe um segundo numero inteiro:2\n",
            "O quociente é  5 , e o resto da divisão é  0\n"
          ]
        }
      ]
    },
    {
      "cell_type": "markdown",
      "source": [
        "6- Escreva em python um algoritmo que leia três números reais (a, b, c), e calcule a média aritmética. Após\n",
        "os cálculos, os resultados deverão ser escritos."
      ],
      "metadata": {
        "id": "h-UzPzFdQcY5"
      }
    },
    {
      "cell_type": "code",
      "source": [
        "#algoritmo seis\n",
        "n1 = 0.0\n",
        "n2 = 0.0\n",
        "n3 = 0.0\n",
        "media = 0.0"
      ],
      "metadata": {
        "id": "VJfdfLpgQhpB"
      },
      "execution_count": null,
      "outputs": []
    },
    {
      "cell_type": "code",
      "source": [
        "#Inicio\n",
        "\n",
        "n1 = float(input(\"Digite o primeiro número:\"))\n",
        "n2 = float(input(\"Digite o segundo número:\"))\n",
        "n3 = float(input(\"Digite o terceiro número:\"))\n",
        "\n",
        "media = n1 + n2 + n3\n",
        "media = media / 3\n",
        "\n",
        "\n",
        "print(\"A média aritmetica é \", round(media, 2))"
      ],
      "metadata": {
        "colab": {
          "base_uri": "https://localhost:8080/"
        },
        "id": "Jbsl41nTQz94",
        "outputId": "a12330d2-878a-4ed9-ed68-819f1dd94b4c"
      },
      "execution_count": null,
      "outputs": [
        {
          "output_type": "stream",
          "name": "stdout",
          "text": [
            "Digite o primeiro número:10\n",
            "Digite o segundo número:6.5\n",
            "Digite o terceiro número:8\n",
            "A média aritmetica é  8.17\n"
          ]
        }
      ]
    },
    {
      "cell_type": "markdown",
      "source": [
        "7- Uma loja de equipamentos de informática resolveu incentivar os seus funcionários a venderem no mês\n",
        "março. Para cada produto vendido, a loja dará uma bonificação de 1%, sobre o salário do funcionário.\n",
        "Desta forma, o funcionário que vender 10 produtos, terá um acréscimo de 10% em seu salário. Faça um\n",
        "algoritmo em Python que leia o código, o nome e o salário fixo do funcionário, além do número de\n",
        "produtos vendidos por ele no mês, e calcule o salário final do funcionário. Por fim, o algoritmo deve\n",
        "escrever o código e o nome do funcionário, juntamente com o seu salário final."
      ],
      "metadata": {
        "id": "9Ewf0IGjSUYq"
      }
    },
    {
      "cell_type": "code",
      "source": [
        "#ALGORITMO SETE\n",
        "prod_vendido = 0\n",
        "codigo = \"\"\n",
        "nome = \"\"\n",
        "salario = 0.0\n",
        "salario_final = 0.0\n",
        "acrescimo = 0"
      ],
      "metadata": {
        "id": "3sb4kwYASbxd"
      },
      "execution_count": null,
      "outputs": []
    },
    {
      "cell_type": "code",
      "source": [
        "#INICIO\n",
        "codigo = str(input(\"Informe o seu codigo:\"))\n",
        "nome = str(input(\"Informe o seu Nome:\"))\n",
        "salario = float(input(\"Informe o seu salario:\"))\n",
        "prod_vendido = int(input(\"Informe o numero de produtos vendidos:\"))\n",
        "\n",
        "acrescimo = prod_vendido\n",
        "salario_final = salario * acrescimo\n",
        "salario_final = salario_final / 100\n",
        "salario_final = salario_final + salario\n",
        "\n",
        "print(\"\\nCodigo:\", codigo)\n",
        "print(\"Nome:\", nome)\n",
        "print(\"Salario final:\", round(salario_final, 2))\n",
        "\n",
        "\n"
      ],
      "metadata": {
        "colab": {
          "base_uri": "https://localhost:8080/"
        },
        "id": "_5oNoC5UTkzJ",
        "outputId": "18dd1547-d5c2-418c-a454-cd158a5de468"
      },
      "execution_count": null,
      "outputs": [
        {
          "output_type": "stream",
          "name": "stdout",
          "text": [
            "Informe o seu codigo:01234\n",
            "Informe o seu Nome:Ryan\n",
            "Informe o seu salario:1000\n",
            "Informe o numero de produtos vendidos:5\n",
            "\n",
            "Codigo: 01234\n",
            "Nome: Ryan\n",
            "Salario final: 1050.0\n"
          ]
        }
      ]
    },
    {
      "cell_type": "markdown",
      "source": [
        "8- Construa um algoritmo em Python que calcule a quantidade de latas de tintas necessárias e o custo para\n",
        "pintar tanques cilíndricos de combustível, onde são fornecidos a altura e o raio deste cilindro. Sabendo\n",
        "que:"
      ],
      "metadata": {
        "id": "cyEm7rWSVDFU"
      }
    },
    {
      "cell_type": "code",
      "source": [
        "#algoritmo oito\n",
        "import math\n",
        "\n",
        "quantidade_latas = 0\n",
        "custo_final = 0.0\n",
        "areatotal = 0.0\n",
        "areabase = 0.0\n",
        "arealateral = 0.0\n",
        "altura = 0.0\n",
        "raio = 0.0\n",
        "litros = 3\n",
        "litros_necessarios = 0\n",
        "lata_necessarios = 0\n",
        "lata = 5\n",
        "preco_lata = 150"
      ],
      "metadata": {
        "id": "cy8qM5YRVXQr"
      },
      "execution_count": null,
      "outputs": []
    },
    {
      "cell_type": "code",
      "source": [
        "#INICIO\n",
        "altura = float(input(\"Informe a altura [m] do cilindro:\"))\n",
        "raio = float(input(\"Informe o raio [m] do cilindro:\"))\n",
        "\n",
        "areabase = 3.14 * (raio ** 2)\n",
        "arealateral = 2 * 3.14 * raio * altura\n",
        "areatotal = areabase + arealateral\n",
        "\n",
        "litros_necessarios = areatotal / litros\n",
        "lata_necessarios = math.ceil(litros_necessarios / lata)\n",
        "\n",
        "custo_final = lata_necessarios * preco_lata\n",
        "\n",
        "print(\"A area total do cilindro é \", round(areatotal, 2), \"metros quadrados\")\n",
        "print(\"A quantidade de latas é\", round(lata_necessarios, 2), \"litros de Tintas\")\n",
        "print(\"O custo final é de\", round(custo_final, 2), \"reais\")"
      ],
      "metadata": {
        "colab": {
          "base_uri": "https://localhost:8080/"
        },
        "id": "EMIOLbtdWIpD",
        "outputId": "5db9593d-9b77-4b43-9935-fe44bea2f434"
      },
      "execution_count": null,
      "outputs": [
        {
          "output_type": "stream",
          "name": "stdout",
          "text": [
            "Informe a altura [m] do cilindro:10.5\n",
            "Informe o raio [m] do cilindro:2.5\n",
            "A area total do cilindro é  184.48 metros quadrados\n",
            "A quantidade de latas é 13 litros de Tintas\n",
            "O custo final é de 1950 reais\n"
          ]
        }
      ]
    },
    {
      "cell_type": "code",
      "source": [],
      "metadata": {
        "id": "WOW2ZzY2dS63"
      },
      "execution_count": null,
      "outputs": []
    },
    {
      "cell_type": "markdown",
      "source": [
        "9- Elabore um algoritmo em Python para calcular e escrever o preço final de um computador, sendo\n",
        "fornecido o preço de fábrica. O preço final do computador é calculado com base nos adicionais 45 % de\n",
        "imposto e 28 % de revenda sobre o preço de fábrica."
      ],
      "metadata": {
        "id": "HZ6r0RTpdOdA"
      }
    },
    {
      "cell_type": "code",
      "source": [
        "#algoritmo dois\n",
        "\n",
        "preco_final = 0\n",
        "preco_fab = 0\n",
        "imp = 0\n",
        "rev = 0\n",
        "\n"
      ],
      "metadata": {
        "id": "uBklsQ8kdaVg"
      },
      "execution_count": null,
      "outputs": []
    },
    {
      "cell_type": "code",
      "source": [
        "#inicio\n",
        "preco_fab = float(input(\"Informe o preço de fabrica:\"))\n",
        "\n",
        "imp = preco_fab * 45 / 100\n",
        "\n",
        "rev = preco_fab * 28 / 100\n",
        "\n",
        "preco_final = preco_fab + imp + rev\n",
        "\n",
        "print(\"O preço final do computador é \", preco_final)"
      ],
      "metadata": {
        "colab": {
          "base_uri": "https://localhost:8080/"
        },
        "id": "M5NB79WAdb7P",
        "outputId": "5347cda0-0a84-41fd-d9a8-3fc6dcc22ef9"
      },
      "execution_count": null,
      "outputs": [
        {
          "output_type": "stream",
          "name": "stdout",
          "text": [
            "Informe o preço de fabrica:1000\n",
            "O preço final do computador é  1730.0\n"
          ]
        }
      ]
    },
    {
      "cell_type": "markdown",
      "source": [
        "10- Uma revendedora de carros usados paga aos seus funcionários vendedores, um salário fixo por mês, mais\n",
        "uma comissão para cada carro vendido. Escreva um algoritmo em Python que leia o número do vendedor, o seu salário fixo, o número de carros por ele vendidos, e o valor que recebe por carro vendido, e calcule o\n",
        "salário mensal do vendedor, escrevendo-o juntamente com o seu número de identificação."
      ],
      "metadata": {
        "id": "8XOHHwAOdxu_"
      }
    },
    {
      "cell_type": "code",
      "source": [
        "#algoritmo dez\n",
        "\n",
        "numero = \"0\"\n",
        "salario = 0.0\n",
        "comissao = 0\n",
        "carrosvendidos = 0\n",
        "salario_final = 0.0"
      ],
      "metadata": {
        "id": "OQgP_bAOe4VP"
      },
      "execution_count": null,
      "outputs": []
    },
    {
      "cell_type": "code",
      "source": [
        "numero = str(input(\"Digite seu numero:\"))\n",
        "salario = float(input(\"Digite seu salario:\"))\n",
        "carrosvendidos = int(input(\"Digite o número de carros vendidos:\"))\n",
        "comissao = int(input(\"Digite o valor que recebe por carro vendido:\"))\n",
        "\n",
        "salario_final = (salario * comissao) / 100\n",
        "salario_final = salario + salario_final\n",
        "\n",
        "print(\"O funcionario \" + numero + \" tem o salario mensal de \", salario_final, \" reais\")"
      ],
      "metadata": {
        "colab": {
          "base_uri": "https://localhost:8080/"
        },
        "id": "G2C5iijFfMjg",
        "outputId": "c86876a7-8fcd-4f4c-9496-28423a599fd0"
      },
      "execution_count": null,
      "outputs": [
        {
          "output_type": "stream",
          "name": "stdout",
          "text": [
            "Digite seu numero:0123\n",
            "Digite seu salario:1000\n",
            "Digite o número de carros vendidos:10\n",
            "Digite o valor que recebe por carro vendido:1\n",
            "O funcionario 0123 tem o salario mensal de  1010.0  reais\n"
          ]
        }
      ]
    },
    {
      "cell_type": "markdown",
      "source": [
        "11- Uma empresa, para emitir a sua folha de pagamento mensal, trabalha com os seguintes dados: Relativos ao Sistema de Pagamentos\n",
        "Valor da Hora Normal = R$ 8,00\n",
        "Valor da Hora Extra = R$ 9,50\n",
        "Valor do Acréscimo por Dependente = RS 2,50\n",
        "Relativos a cada Funcionário\n",
        "Número de Identificação\n",
        "Nome\n",
        "Número de horas normais trabalhadas\n",
        "Número de horas extras trabalhadas\n",
        "Número de dependentes\n",
        "O cálculo do salário de cada funcionário é feito em 3 etapas:\n"
      ],
      "metadata": {
        "id": "K-D8uc3yhAYE"
      }
    },
    {
      "cell_type": "code",
      "source": [
        "#algoritmo onze\n",
        "valorhoranormal = 8.0\n",
        "valorhoraextra = 9.5\n",
        "valoracrescimo = 2.5\n",
        "numero_ide = \"\"\n",
        "nome = \"\"\n",
        "num_hrs_normais = 0.0\n",
        "num_hrs_extras = 0.0\n",
        "num_dependentes = 0.0\n",
        "salario_bruto = 0.0\n",
        "salario = 0.0\n",
        "descontos = 0.05"
      ],
      "metadata": {
        "id": "Bb6QniNchQfC"
      },
      "execution_count": null,
      "outputs": []
    },
    {
      "cell_type": "code",
      "source": [
        "#inicio\n",
        "numero_ide = str(input(\"Digite seu numero de identificação:\"))\n",
        "nome = str(input(\"Digite seu nome:\"))\n",
        "num_hrs_normais = float(input(\"Digite o numero de horas normais trabalhadas:\"))\n",
        "num_hrs_extras = float(input(\"Digite o numero de horas extras trabalhadas:\"))\n",
        "num_dependentes = float(input(\"Digite o numero de horas dependentes trabalhadas:\"))\n",
        "\n",
        "#salario bruto\n",
        "salario_bruto = (valorhoranormal * num_hrs_normais) + (valorhoraextra * num_hrs_extras) + (valoracrescimo * num_dependentes)\n",
        "\n",
        "#descontos\n",
        "descontos = salario_bruto * descontos\n",
        "\n",
        "# salario liquido\n",
        "salario = salario_bruto - descontos\n",
        "\n",
        "print(\"O funcionario \" + nome + \" com o numero de identificação \" + numero_ide + \" tem o salario liquido de \", salario, \" reais\")"
      ],
      "metadata": {
        "colab": {
          "base_uri": "https://localhost:8080/"
        },
        "id": "6cxzfdfzj6j4",
        "outputId": "badbef44-f821-48f0-c494-a9852ed37e3a"
      },
      "execution_count": null,
      "outputs": [
        {
          "output_type": "stream",
          "name": "stdout",
          "text": [
            "Digite seu numero de identificação:01234\n",
            "Digite seu nome:Ryan\n",
            "Digite o numero de horas normais trabalhadas:150\n",
            "Digite o numero de horas extras trabalhadas:0\n",
            "Digite o numero de horas dependentes trabalhadas:0\n",
            "O funcionario Ryan com o numero de identificação 01234 tem o salario liquido de  1140.0  reais\n"
          ]
        }
      ]
    }
  ]
}